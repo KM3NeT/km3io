{
 "cells": [
  {
   "cell_type": "markdown",
   "metadata": {},
   "source": [
    "# Testing branch refactor-offline"
   ]
  },
  {
   "cell_type": "code",
   "execution_count": 1,
   "metadata": {},
   "outputs": [],
   "source": [
    "import km3io as ki"
   ]
  },
  {
   "cell_type": "code",
   "execution_count": 2,
   "metadata": {},
   "outputs": [],
   "source": [
    "file = \"~/km3net/orca4data/mc_data/data/reco/datav6.0test.jchain.aanet.00005971.root\""
   ]
  },
  {
   "cell_type": "code",
   "execution_count": 28,
   "metadata": {},
   "outputs": [],
   "source": [
    "r1 = ki.OfflineReader(file)\n",
    "r = ki.OfflineReader(\"/home/zineb/km3net/km3net/km3io/examples/samples/aanet_v2.0.0.root\")\n",
    "r3 = ki.OfflineReader(\"/home/zineb/km3net/km3net/km3io/examples/samples/numucc.root\")"
   ]
  },
  {
   "cell_type": "markdown",
   "metadata": {},
   "source": [
    "# explore events"
   ]
  },
  {
   "cell_type": "code",
   "execution_count": 29,
   "metadata": {},
   "outputs": [
    {
     "data": {
      "text/plain": [
       "10"
      ]
     },
     "execution_count": 29,
     "metadata": {},
     "output_type": "execute_result"
    }
   ],
   "source": [
    "len(r.events)"
   ]
  },
  {
   "cell_type": "code",
   "execution_count": 30,
   "metadata": {},
   "outputs": [
    {
     "name": "stderr",
     "output_type": "stream",
     "text": [
      "/home/zineb/km3net/km3net/km3io/km3io/offline.py:126: UserWarning: Your file header has an unsupported format\n",
      "  warnings.warn(\"Your file header has an unsupported format\")\n"
     ]
    },
    {
     "ename": "AttributeError",
     "evalue": "'NoneType' object has no attribute 'DAQ'",
     "output_type": "error",
     "traceback": [
      "\u001b[0;31m---------------------------------------------------------------------------\u001b[0m",
      "\u001b[0;31mAttributeError\u001b[0m                            Traceback (most recent call last)",
      "\u001b[0;32m<ipython-input-30-7198235dac65>\u001b[0m in \u001b[0;36m<module>\u001b[0;34m\u001b[0m\n\u001b[0;32m----> 1\u001b[0;31m \u001b[0mr\u001b[0m\u001b[0;34m.\u001b[0m\u001b[0mheader\u001b[0m\u001b[0;34m.\u001b[0m\u001b[0mDAQ\u001b[0m\u001b[0;34m\u001b[0m\u001b[0;34m\u001b[0m\u001b[0m\n\u001b[0m",
      "\u001b[0;31mAttributeError\u001b[0m: 'NoneType' object has no attribute 'DAQ'"
     ]
    }
   ],
   "source": [
    "r.header.DAQ"
   ]
  },
  {
   "cell_type": "code",
   "execution_count": 31,
   "metadata": {},
   "outputs": [
    {
     "data": {
      "text/plain": [
       "dict_keys(['mc_run_id', 'flags', 'det_id', 'w', 'trigger_counter', 'run_id', 'overlays', 'w3list', 'frame_index', 'mc_id', 'comment', 'w2list', 'trigger_mask', 'id', 'index', 'mc_t', 't_sec', 't_ns', 'n_hits', 'n_mc_hits', 'n_tracks', 'n_mc_tracks'])"
      ]
     },
     "execution_count": 31,
     "metadata": {},
     "output_type": "execute_result"
    }
   ],
   "source": [
    "r.events._keymap.keys()"
   ]
  },
  {
   "cell_type": "code",
   "execution_count": 32,
   "metadata": {},
   "outputs": [
    {
     "name": "stdout",
     "output_type": "stream",
     "text": [
      "mc_run_id [0 0 0 ... 0 0 0]\n",
      "flags [0 0 0 ... 0 0 0]\n",
      "det_id [44 44 44 ... 44 44 44]\n",
      "w [[] [] [] ... [] [] []]\n",
      "trigger_counter [0 0 1 ... 3 4 0]\n",
      "run_id [5971 5971 5971 ... 5971 5971 5971]\n",
      "overlays [60 19 95 ... 6 51 22]\n",
      "w3list [[] [] [] ... [] [] []]\n",
      "frame_index [182 183 202 ... 185 185 204]\n",
      "mc_id [0 0 0 ... 0 0 0]\n",
      "comment [b'' b'' b'' ... b'' b'' b'']\n",
      "w2list [[] [] [] ... [] [] []]\n",
      "trigger_mask [22 22 22 ... 22 22 22]\n",
      "id [1 2 3 ... 8 9 10]\n",
      "index [0 0 0 ... 0 0 0]\n",
      "mc_t [0.0 0.0 0.0 ... 0.0 0.0 0.0]\n",
      "t_sec [1567036818 1567036818 1567036820 ... 1567036818 1567036818 1567036820]\n",
      "t_ns [200000000 300000000 200000000 ... 500000000 500000000 400000000]\n",
      "n_hits [176 125 318 ... 84 255 105]\n",
      "n_mc_hits [0 0 0 ... 0 0 0]\n",
      "n_tracks [56 55 56 ... 56 54 56]\n",
      "n_mc_tracks [0 0 0 ... 0 0 0]\n"
     ]
    }
   ],
   "source": [
    "for key in r.events._keymap.keys():\n",
    "    print(key, getattr(r.events, key))"
   ]
  },
  {
   "cell_type": "code",
   "execution_count": 33,
   "metadata": {},
   "outputs": [
    {
     "data": {
      "text/plain": [
       "<ChunkedArray [44 44 44 ... 44 44 44] at 0x7f7489db0110>"
      ]
     },
     "execution_count": 33,
     "metadata": {},
     "output_type": "execute_result"
    }
   ],
   "source": [
    "r.events.det_id"
   ]
  },
  {
   "cell_type": "code",
   "execution_count": 34,
   "metadata": {},
   "outputs": [
    {
     "data": {
      "text/plain": [
       "<ChunkedArray [0 0 0 ... 0 0 0] at 0x7f748981ef90>"
      ]
     },
     "execution_count": 34,
     "metadata": {},
     "output_type": "execute_result"
    }
   ],
   "source": [
    "r.events.mc_run_id"
   ]
  },
  {
   "cell_type": "code",
   "execution_count": 35,
   "metadata": {},
   "outputs": [
    {
     "data": {
      "text/plain": [
       "<ChunkedArray [22 22 22 ... 22 22 22] at 0x7f74897b9110>"
      ]
     },
     "execution_count": 35,
     "metadata": {},
     "output_type": "execute_result"
    }
   ],
   "source": [
    "r.events.trigger_mask"
   ]
  },
  {
   "cell_type": "code",
   "execution_count": 36,
   "metadata": {},
   "outputs": [
    {
     "data": {
      "text/plain": [
       "<ChunkedArray [60 19 95 ... 6 51 22] at 0x7f74897b9750>"
      ]
     },
     "execution_count": 36,
     "metadata": {},
     "output_type": "execute_result"
    }
   ],
   "source": [
    "r.events.overlays"
   ]
  },
  {
   "cell_type": "code",
   "execution_count": 37,
   "metadata": {},
   "outputs": [
    {
     "data": {
      "text/plain": [
       "<ChunkedArray [[] [] [] ... [] [] []] at 0x7f74897c32d0>"
      ]
     },
     "execution_count": 37,
     "metadata": {},
     "output_type": "execute_result"
    }
   ],
   "source": [
    "r.events.w3list"
   ]
  },
  {
   "cell_type": "code",
   "execution_count": 38,
   "metadata": {},
   "outputs": [
    {
     "data": {
      "text/plain": [
       "<ChunkedArray [0 0 0 ... 0 0 0] at 0x7f748984ce10>"
      ]
     },
     "execution_count": 38,
     "metadata": {},
     "output_type": "execute_result"
    }
   ],
   "source": [
    "r.events.flags"
   ]
  },
  {
   "cell_type": "code",
   "execution_count": 39,
   "metadata": {},
   "outputs": [
    {
     "data": {
      "text/plain": [
       "<ChunkedArray [[] [] [] ... [] [] []] at 0x7f748981e090>"
      ]
     },
     "execution_count": 39,
     "metadata": {},
     "output_type": "execute_result"
    }
   ],
   "source": [
    "r.events.w"
   ]
  },
  {
   "cell_type": "code",
   "execution_count": 40,
   "metadata": {},
   "outputs": [
    {
     "data": {
      "text/plain": [
       "<ChunkedArray [60 19 95 ... 6 51 22] at 0x7f74897c3790>"
      ]
     },
     "execution_count": 40,
     "metadata": {},
     "output_type": "execute_result"
    }
   ],
   "source": [
    "r.events[\"overlays\"]"
   ]
  },
  {
   "cell_type": "markdown",
   "metadata": {},
   "source": [
    "## test events slicing"
   ]
  },
  {
   "cell_type": "code",
   "execution_count": 41,
   "metadata": {},
   "outputs": [
    {
     "data": {
      "text/plain": [
       "<ChunkedArray [318 83 71] at 0x7f74897c3b90>"
      ]
     },
     "execution_count": 41,
     "metadata": {},
     "output_type": "execute_result"
    }
   ],
   "source": [
    "r.events[2:8:2].n_hits"
   ]
  },
  {
   "cell_type": "code",
   "execution_count": 42,
   "metadata": {},
   "outputs": [
    {
     "data": {
      "text/plain": [
       "<ChunkedArray [318 83 71] at 0x7f74897c7810>"
      ]
     },
     "execution_count": 42,
     "metadata": {},
     "output_type": "execute_result"
    }
   ],
   "source": [
    "r.events.n_hits[2:8:2]"
   ]
  },
  {
   "cell_type": "code",
   "execution_count": 43,
   "metadata": {},
   "outputs": [
    {
     "data": {
      "text/plain": [
       "slice(2, 8, 2)"
      ]
     },
     "execution_count": 43,
     "metadata": {},
     "output_type": "execute_result"
    }
   ],
   "source": [
    "s = slice(2, 8, 2)\n",
    "s"
   ]
  },
  {
   "cell_type": "code",
   "execution_count": 44,
   "metadata": {},
   "outputs": [
    {
     "data": {
      "text/plain": [
       "<ChunkedArray [318 83 71] at 0x7f74897c8fd0>"
      ]
     },
     "execution_count": 44,
     "metadata": {},
     "output_type": "execute_result"
    }
   ],
   "source": [
    "r.events[s].n_hits"
   ]
  },
  {
   "cell_type": "code",
   "execution_count": 45,
   "metadata": {},
   "outputs": [
    {
     "data": {
      "text/plain": [
       "'Number of elements: 10'"
      ]
     },
     "execution_count": 45,
     "metadata": {},
     "output_type": "execute_result"
    }
   ],
   "source": [
    "str(r.events)"
   ]
  },
  {
   "cell_type": "code",
   "execution_count": 46,
   "metadata": {},
   "outputs": [
    {
     "data": {
      "text/plain": [
       "'<Branch[events]: 10 elements>'"
      ]
     },
     "execution_count": 46,
     "metadata": {},
     "output_type": "execute_result"
    }
   ],
   "source": [
    "repr(r.events)"
   ]
  },
  {
   "cell_type": "markdown",
   "metadata": {},
   "source": [
    "# BUG IN EVENTS SLICING!"
   ]
  },
  {
   "cell_type": "code",
   "execution_count": 47,
   "metadata": {},
   "outputs": [
    {
     "data": {
      "text/plain": [
       "255"
      ]
     },
     "execution_count": 47,
     "metadata": {},
     "output_type": "execute_result"
    }
   ],
   "source": [
    "# this slicing sctructure is not even valid to make custom slices and yet it returns the value of \n",
    "# the second index \"8\"\n",
    "r.events[2, 8, 2].n_hits"
   ]
  },
  {
   "cell_type": "code",
   "execution_count": 48,
   "metadata": {},
   "outputs": [
    {
     "data": {
      "text/plain": [
       "255"
      ]
     },
     "execution_count": 48,
     "metadata": {},
     "output_type": "execute_result"
    }
   ],
   "source": [
    "r.events[8].n_hits"
   ]
  },
  {
   "cell_type": "code",
   "execution_count": 49,
   "metadata": {},
   "outputs": [
    {
     "data": {
      "text/plain": [
       "176"
      ]
     },
     "execution_count": 49,
     "metadata": {},
     "output_type": "execute_result"
    }
   ],
   "source": [
    "r.events[2:8:2, 5][0].n_hits"
   ]
  },
  {
   "cell_type": "code",
   "execution_count": 50,
   "metadata": {},
   "outputs": [
    {
     "data": {
      "text/plain": [
       "318"
      ]
     },
     "execution_count": 50,
     "metadata": {},
     "output_type": "execute_result"
    }
   ],
   "source": [
    "# the last index is always picked up even if the rest of slicing indices don't make sense\n",
    "r.events[2:8:2, 5][0][2].n_hits"
   ]
  },
  {
   "cell_type": "code",
   "execution_count": 51,
   "metadata": {},
   "outputs": [
    {
     "data": {
      "text/plain": [
       "176"
      ]
     },
     "execution_count": 51,
     "metadata": {},
     "output_type": "execute_result"
    }
   ],
   "source": [
    "# same here!\n",
    "r.events[5, 2:8:2, 0][0].n_hits"
   ]
  },
  {
   "cell_type": "code",
   "execution_count": 52,
   "metadata": {},
   "outputs": [
    {
     "data": {
      "text/plain": [
       "318"
      ]
     },
     "execution_count": 52,
     "metadata": {},
     "output_type": "execute_result"
    }
   ],
   "source": [
    "# a similar index error should appear when \"non sense\" slicing is used\n",
    "r.events[0][2].n_hits"
   ]
  },
  {
   "cell_type": "code",
   "execution_count": 53,
   "metadata": {},
   "outputs": [
    {
     "ename": "IndexError",
     "evalue": "invalid index to scalar variable.",
     "output_type": "error",
     "traceback": [
      "\u001b[0;31m---------------------------------------------------------------------------\u001b[0m",
      "\u001b[0;31mIndexError\u001b[0m                                Traceback (most recent call last)",
      "\u001b[0;32m<ipython-input-53-5a8074302198>\u001b[0m in \u001b[0;36m<module>\u001b[0;34m\u001b[0m\n\u001b[0;32m----> 1\u001b[0;31m \u001b[0mr\u001b[0m\u001b[0;34m.\u001b[0m\u001b[0mevents\u001b[0m\u001b[0;34m.\u001b[0m\u001b[0mn_hits\u001b[0m\u001b[0;34m[\u001b[0m\u001b[0;36m0\u001b[0m\u001b[0;34m]\u001b[0m\u001b[0;34m[\u001b[0m\u001b[0;36m2\u001b[0m\u001b[0;34m]\u001b[0m\u001b[0;34m\u001b[0m\u001b[0;34m\u001b[0m\u001b[0m\n\u001b[0m",
      "\u001b[0;31mIndexError\u001b[0m: invalid index to scalar variable."
     ]
    }
   ],
   "source": [
    "r.events.n_hits[0][2]"
   ]
  },
  {
   "cell_type": "code",
   "execution_count": 54,
   "metadata": {},
   "outputs": [
    {
     "data": {
      "text/plain": [
       "83"
      ]
     },
     "execution_count": 54,
     "metadata": {},
     "output_type": "execute_result"
    }
   ],
   "source": [
    "# this shouldn't be allowed\n",
    "r.events[0:3, 4].n_hits"
   ]
  },
  {
   "cell_type": "code",
   "execution_count": 55,
   "metadata": {},
   "outputs": [
    {
     "data": {
      "text/plain": [
       "83"
      ]
     },
     "execution_count": 55,
     "metadata": {},
     "output_type": "execute_result"
    }
   ],
   "source": [
    "# this doesn't make sense, since we selected the first 3 elements, there shouldn't be a forth n_hits available!\n",
    "r.events[0:3][4].n_hits"
   ]
  },
  {
   "cell_type": "code",
   "execution_count": 56,
   "metadata": {},
   "outputs": [
    {
     "ename": "IndexError",
     "evalue": "index 4 out of bounds for length 3",
     "output_type": "error",
     "traceback": [
      "\u001b[0;31m---------------------------------------------------------------------------\u001b[0m",
      "\u001b[0;31mIndexError\u001b[0m                                Traceback (most recent call last)",
      "\u001b[0;32m<ipython-input-56-de7d2081c771>\u001b[0m in \u001b[0;36m<module>\u001b[0;34m\u001b[0m\n\u001b[0;32m----> 1\u001b[0;31m \u001b[0mr\u001b[0m\u001b[0;34m.\u001b[0m\u001b[0mevents\u001b[0m\u001b[0;34m[\u001b[0m\u001b[0;36m0\u001b[0m\u001b[0;34m:\u001b[0m\u001b[0;36m3\u001b[0m\u001b[0;34m]\u001b[0m\u001b[0;34m.\u001b[0m\u001b[0mn_hits\u001b[0m\u001b[0;34m[\u001b[0m\u001b[0;36m4\u001b[0m\u001b[0;34m]\u001b[0m\u001b[0;34m\u001b[0m\u001b[0;34m\u001b[0m\u001b[0m\n\u001b[0m",
      "\u001b[0;32m~/miniconda3/envs/km3pipe/lib/python3.7/site-packages/awkward/array/chunked.py\u001b[0m in \u001b[0;36m__getitem__\u001b[0;34m(self, where)\u001b[0m\n\u001b[1;32m    339\u001b[0m \u001b[0;34m\u001b[0m\u001b[0m\n\u001b[1;32m    340\u001b[0m         \u001b[0;32mif\u001b[0m \u001b[0mself\u001b[0m\u001b[0;34m.\u001b[0m\u001b[0m_util_isinteger\u001b[0m\u001b[0;34m(\u001b[0m\u001b[0mhead\u001b[0m\u001b[0;34m)\u001b[0m\u001b[0;34m:\u001b[0m\u001b[0;34m\u001b[0m\u001b[0;34m\u001b[0m\u001b[0m\n\u001b[0;32m--> 341\u001b[0;31m             \u001b[0mchunk\u001b[0m\u001b[0;34m,\u001b[0m \u001b[0mlocalhead\u001b[0m \u001b[0;34m=\u001b[0m \u001b[0mself\u001b[0m\u001b[0;34m.\u001b[0m\u001b[0mglobal2local\u001b[0m\u001b[0;34m(\u001b[0m\u001b[0mhead\u001b[0m\u001b[0;34m)\u001b[0m\u001b[0;34m\u001b[0m\u001b[0;34m\u001b[0m\u001b[0m\n\u001b[0m\u001b[1;32m    342\u001b[0m             \u001b[0;32mreturn\u001b[0m \u001b[0mchunk\u001b[0m\u001b[0;34m[\u001b[0m\u001b[0;34m(\u001b[0m\u001b[0mlocalhead\u001b[0m\u001b[0;34m,\u001b[0m\u001b[0;34m)\u001b[0m \u001b[0;34m+\u001b[0m \u001b[0mtail\u001b[0m\u001b[0;34m]\u001b[0m\u001b[0;34m\u001b[0m\u001b[0;34m\u001b[0m\u001b[0m\n\u001b[1;32m    343\u001b[0m \u001b[0;34m\u001b[0m\u001b[0m\n",
      "\u001b[0;32m~/miniconda3/envs/km3pipe/lib/python3.7/site-packages/awkward/array/chunked.py\u001b[0m in \u001b[0;36mglobal2local\u001b[0;34m(self, index)\u001b[0m\n\u001b[1;32m    176\u001b[0m \u001b[0;34m\u001b[0m\u001b[0m\n\u001b[1;32m    177\u001b[0m     \u001b[0;32mdef\u001b[0m \u001b[0mglobal2local\u001b[0m\u001b[0;34m(\u001b[0m\u001b[0mself\u001b[0m\u001b[0;34m,\u001b[0m \u001b[0mindex\u001b[0m\u001b[0;34m)\u001b[0m\u001b[0;34m:\u001b[0m\u001b[0;34m\u001b[0m\u001b[0;34m\u001b[0m\u001b[0m\n\u001b[0;32m--> 178\u001b[0;31m         \u001b[0mchunkid\u001b[0m\u001b[0;34m,\u001b[0m \u001b[0mindex\u001b[0m \u001b[0;34m=\u001b[0m \u001b[0mself\u001b[0m\u001b[0;34m.\u001b[0m\u001b[0mglobal2chunkid\u001b[0m\u001b[0;34m(\u001b[0m\u001b[0mindex\u001b[0m\u001b[0;34m,\u001b[0m \u001b[0mreturn_normalized\u001b[0m\u001b[0;34m=\u001b[0m\u001b[0;32mTrue\u001b[0m\u001b[0;34m)\u001b[0m\u001b[0;34m\u001b[0m\u001b[0;34m\u001b[0m\u001b[0m\n\u001b[0m\u001b[1;32m    179\u001b[0m \u001b[0;34m\u001b[0m\u001b[0m\n\u001b[1;32m    180\u001b[0m         \u001b[0;32mif\u001b[0m \u001b[0mself\u001b[0m\u001b[0;34m.\u001b[0m\u001b[0m_util_isinteger\u001b[0m\u001b[0;34m(\u001b[0m\u001b[0mindex\u001b[0m\u001b[0;34m)\u001b[0m\u001b[0;34m:\u001b[0m\u001b[0;34m\u001b[0m\u001b[0;34m\u001b[0m\u001b[0m\n",
      "\u001b[0;32m~/miniconda3/envs/km3pipe/lib/python3.7/site-packages/awkward/array/chunked.py\u001b[0m in \u001b[0;36mglobal2chunkid\u001b[0;34m(self, index, return_normalized)\u001b[0m\n\u001b[1;32m    143\u001b[0m             \u001b[0;32mwhile\u001b[0m \u001b[0mindex\u001b[0m \u001b[0;34m>=\u001b[0m \u001b[0mcumulative\u001b[0m\u001b[0;34m:\u001b[0m\u001b[0;34m\u001b[0m\u001b[0;34m\u001b[0m\u001b[0m\n\u001b[1;32m    144\u001b[0m                 \u001b[0;32mif\u001b[0m \u001b[0mself\u001b[0m\u001b[0;34m.\u001b[0m\u001b[0mchunksizesknown\u001b[0m\u001b[0;34m:\u001b[0m\u001b[0;34m\u001b[0m\u001b[0;34m\u001b[0m\u001b[0m\n\u001b[0;32m--> 145\u001b[0;31m                     \u001b[0;32mraise\u001b[0m \u001b[0mIndexError\u001b[0m\u001b[0;34m(\u001b[0m\u001b[0;34m\"index {0} out of bounds for length {1}\"\u001b[0m\u001b[0;34m.\u001b[0m\u001b[0mformat\u001b[0m\u001b[0;34m(\u001b[0m\u001b[0moriginal_index\u001b[0m\u001b[0;34m,\u001b[0m \u001b[0mlen\u001b[0m\u001b[0;34m(\u001b[0m\u001b[0mself\u001b[0m\u001b[0;34m)\u001b[0m\u001b[0;34m)\u001b[0m\u001b[0;34m)\u001b[0m\u001b[0;34m\u001b[0m\u001b[0;34m\u001b[0m\u001b[0m\n\u001b[0m\u001b[1;32m    146\u001b[0m                 \u001b[0mcount\u001b[0m \u001b[0;34m=\u001b[0m \u001b[0mlen\u001b[0m\u001b[0;34m(\u001b[0m\u001b[0mself\u001b[0m\u001b[0;34m.\u001b[0m\u001b[0m_chunks\u001b[0m\u001b[0;34m[\u001b[0m\u001b[0mlen\u001b[0m\u001b[0;34m(\u001b[0m\u001b[0mself\u001b[0m\u001b[0;34m.\u001b[0m\u001b[0m_chunksizes\u001b[0m\u001b[0;34m)\u001b[0m\u001b[0;34m]\u001b[0m\u001b[0;34m)\u001b[0m\u001b[0;34m\u001b[0m\u001b[0;34m\u001b[0m\u001b[0m\n\u001b[1;32m    147\u001b[0m                 \u001b[0mcumulative\u001b[0m \u001b[0;34m+=\u001b[0m \u001b[0mcount\u001b[0m\u001b[0;34m\u001b[0m\u001b[0;34m\u001b[0m\u001b[0m\n",
      "\u001b[0;31mIndexError\u001b[0m: index 4 out of bounds for length 3"
     ]
    }
   ],
   "source": [
    "# we need similar IndexError ...\n",
    "r.events[0:3].n_hits[4]"
   ]
  },
  {
   "cell_type": "code",
   "execution_count": 57,
   "metadata": {},
   "outputs": [
    {
     "ename": "IndexError",
     "evalue": "too many indices for array",
     "output_type": "error",
     "traceback": [
      "\u001b[0;31m---------------------------------------------------------------------------\u001b[0m",
      "\u001b[0;31mIndexError\u001b[0m                                Traceback (most recent call last)",
      "\u001b[0;32m<ipython-input-57-3895fda1b149>\u001b[0m in \u001b[0;36m<module>\u001b[0;34m\u001b[0m\n\u001b[0;32m----> 1\u001b[0;31m \u001b[0mr\u001b[0m\u001b[0;34m.\u001b[0m\u001b[0mevents\u001b[0m\u001b[0;34m.\u001b[0m\u001b[0mn_hits\u001b[0m\u001b[0;34m[\u001b[0m\u001b[0;36m0\u001b[0m\u001b[0;34m:\u001b[0m\u001b[0;36m3\u001b[0m\u001b[0;34m,\u001b[0m \u001b[0;36m2\u001b[0m\u001b[0;34m]\u001b[0m\u001b[0;34m\u001b[0m\u001b[0;34m\u001b[0m\u001b[0m\n\u001b[0m",
      "\u001b[0;32m~/miniconda3/envs/km3pipe/lib/python3.7/site-packages/awkward/array/chunked.py\u001b[0m in \u001b[0;36m__getitem__\u001b[0;34m(self, where)\u001b[0m\n\u001b[1;32m    428\u001b[0m                 \u001b[0mchunk\u001b[0m \u001b[0;34m=\u001b[0m \u001b[0mself\u001b[0m\u001b[0;34m.\u001b[0m\u001b[0m_chunks\u001b[0m\u001b[0;34m[\u001b[0m\u001b[0mchunkid\u001b[0m\u001b[0;34m]\u001b[0m\u001b[0;34m[\u001b[0m\u001b[0;34m(\u001b[0m\u001b[0mslice\u001b[0m\u001b[0;34m(\u001b[0m\u001b[0mlocal_start\u001b[0m\u001b[0;34m,\u001b[0m \u001b[0mlocal_stop\u001b[0m\u001b[0;34m,\u001b[0m \u001b[0mstep\u001b[0m\u001b[0;34m)\u001b[0m\u001b[0;34m,\u001b[0m\u001b[0;34m)\u001b[0m\u001b[0;34m]\u001b[0m\u001b[0;34m\u001b[0m\u001b[0;34m\u001b[0m\u001b[0m\n\u001b[1;32m    429\u001b[0m                 \u001b[0;32mif\u001b[0m \u001b[0mlen\u001b[0m\u001b[0;34m(\u001b[0m\u001b[0mchunk\u001b[0m\u001b[0;34m)\u001b[0m \u001b[0;34m>\u001b[0m \u001b[0;36m0\u001b[0m\u001b[0;34m:\u001b[0m\u001b[0;34m\u001b[0m\u001b[0;34m\u001b[0m\u001b[0m\n\u001b[0;32m--> 430\u001b[0;31m                     \u001b[0mchunk\u001b[0m \u001b[0;34m=\u001b[0m \u001b[0mchunk\u001b[0m\u001b[0;34m[\u001b[0m\u001b[0;34m(\u001b[0m\u001b[0mslice\u001b[0m\u001b[0;34m(\u001b[0m\u001b[0;32mNone\u001b[0m\u001b[0;34m)\u001b[0m\u001b[0;34m,\u001b[0m\u001b[0;34m)\u001b[0m \u001b[0;34m+\u001b[0m \u001b[0mtail\u001b[0m\u001b[0;34m]\u001b[0m\u001b[0;34m\u001b[0m\u001b[0;34m\u001b[0m\u001b[0m\n\u001b[0m\u001b[1;32m    431\u001b[0m                     \u001b[0;32mif\u001b[0m \u001b[0mlen\u001b[0m\u001b[0;34m(\u001b[0m\u001b[0mchunk\u001b[0m\u001b[0;34m)\u001b[0m \u001b[0;34m>\u001b[0m \u001b[0;36m0\u001b[0m\u001b[0;34m:\u001b[0m\u001b[0;34m\u001b[0m\u001b[0;34m\u001b[0m\u001b[0m\n\u001b[1;32m    432\u001b[0m                         \u001b[0mchunks\u001b[0m\u001b[0;34m.\u001b[0m\u001b[0mappend\u001b[0m\u001b[0;34m(\u001b[0m\u001b[0mchunk\u001b[0m\u001b[0;34m)\u001b[0m\u001b[0;34m\u001b[0m\u001b[0;34m\u001b[0m\u001b[0m\n",
      "\u001b[0;31mIndexError\u001b[0m: too many indices for array"
     ]
    }
   ],
   "source": [
    "# we need similar IndexError\n",
    "r.events.n_hits[0:3, 2]"
   ]
  },
  {
   "cell_type": "code",
   "execution_count": 137,
   "metadata": {},
   "outputs": [
    {
     "data": {
      "text/plain": [
       "<Branch[events]: 1 element>"
      ]
     },
     "execution_count": 137,
     "metadata": {},
     "output_type": "execute_result"
    }
   ],
   "source": [
    "# slicing with a list: this returns only one element while r.events[[1, 2, 5]] returns 3\n",
    "r.events[1, 2, 5]"
   ]
  },
  {
   "cell_type": "code",
   "execution_count": 138,
   "metadata": {},
   "outputs": [
    {
     "data": {
      "text/plain": [
       "<Branch[events]: 3 elements>"
      ]
     },
     "execution_count": 138,
     "metadata": {},
     "output_type": "execute_result"
    }
   ],
   "source": [
    "r.events[[1, 2, 5]]"
   ]
  },
  {
   "cell_type": "markdown",
   "metadata": {},
   "source": [
    "# Explore hits"
   ]
  },
  {
   "cell_type": "code",
   "execution_count": 58,
   "metadata": {},
   "outputs": [
    {
     "data": {
      "text/plain": [
       "<Branch[hits]: 10 elements>"
      ]
     },
     "execution_count": 58,
     "metadata": {},
     "output_type": "execute_result"
    }
   ],
   "source": [
    "r.events.hits"
   ]
  },
  {
   "cell_type": "code",
   "execution_count": 59,
   "metadata": {},
   "outputs": [
    {
     "data": {
      "text/plain": [
       "dict_keys(['pure_t', 'id', 'pos_y', 'tdc', 'dir_x', 'trig', 'pos_z', 'tot', 'channel_id', 'dir_y', 'dir_z', 't', 'dom_id', 'pos_x', 'pattern_flags', 'type'])"
      ]
     },
     "execution_count": 59,
     "metadata": {},
     "output_type": "execute_result"
    }
   ],
   "source": [
    "r.events.hits._keymap.keys()"
   ]
  },
  {
   "cell_type": "code",
   "execution_count": 60,
   "metadata": {},
   "outputs": [
    {
     "name": "stdout",
     "output_type": "stream",
     "text": [
      "pure_t [[0.0 0.0 0.0 ... 0.0 0.0 0.0] [0.0 0.0 0.0 ... 0.0 0.0 0.0] [0.0 0.0 0.0 ... 0.0 0.0 0.0] ... [0.0 0.0 0.0 ... 0.0 0.0 0.0] [0.0 0.0 0.0 ... 0.0 0.0 0.0] [0.0 0.0 0.0 ... 0.0 0.0 0.0]] \n",
      "\n",
      "id [[0 0 0 ... 0 0 0] [0 0 0 ... 0 0 0] [0 0 0 ... 0 0 0] ... [0 0 0 ... 0 0 0] [0 0 0 ... 0 0 0] [0 0 0 ... 0 0 0]] \n",
      "\n",
      "pos_y [[0.0 0.0 0.0 ... 0.0 0.0 0.0] [0.0 0.0 0.0 ... 0.0 0.0 0.0] [0.0 0.0 0.0 ... 0.0 0.0 0.0] ... [0.0 0.0 0.0 ... 0.0 0.0 0.0] [0.0 0.0 0.0 ... 0.0 0.0 0.0] [0.0 0.0 0.0 ... 0.0 0.0 0.0]] \n",
      "\n",
      "tdc [[0 0 0 ... 0 0 0] [0 0 0 ... 0 0 0] [0 0 0 ... 0 0 0] ... [0 0 0 ... 0 0 0] [0 0 0 ... 0 0 0] [0 0 0 ... 0 0 0]] \n",
      "\n",
      "dir_x [[0.0 0.0 0.0 ... 0.0 0.0 0.0] [0.0 0.0 0.0 ... 0.0 0.0 0.0] [0.0 0.0 0.0 ... 0.0 0.0 0.0] ... [0.0 0.0 0.0 ... 0.0 0.0 0.0] [0.0 0.0 0.0 ... 0.0 0.0 0.0] [0.0 0.0 0.0 ... 0.0 0.0 0.0]] \n",
      "\n",
      "trig [[1 1 0 ... 1 1 0] [0 0 0 ... 0 0 0] [1 0 0 ... 1 1 0] ... [0 0 0 ... 0 0 0] [0 1 1 ... 1 1 0] [1 1 1 ... 1 1 0]] \n",
      "\n",
      "pos_z [[0.0 0.0 0.0 ... 0.0 0.0 0.0] [0.0 0.0 0.0 ... 0.0 0.0 0.0] [0.0 0.0 0.0 ... 0.0 0.0 0.0] ... [0.0 0.0 0.0 ... 0.0 0.0 0.0] [0.0 0.0 0.0 ... 0.0 0.0 0.0] [0.0 0.0 0.0 ... 0.0 0.0 0.0]] \n",
      "\n",
      "tot [[24 30 22 ... 38 26 23] [29 26 22 ... 26 28 24] [27 19 13 ... 27 24 16] ... [22 22 9 ... 27 32 27] [30 32 17 ... 30 24 29] [27 41 36 ... 29 24 28]] \n",
      "\n",
      "channel_id [[8 9 14 ... 5 7 26] [22 16 16 ... 15 6 17] [9 27 0 ... 2 7 11] ... [3 26 26 ... 0 12 12] [27 5 13 ... 15 17 19] [1 2 3 ... 10 11 0]] \n",
      "\n",
      "dir_y [[0.0 0.0 0.0 ... 0.0 0.0 0.0] [0.0 0.0 0.0 ... 0.0 0.0 0.0] [0.0 0.0 0.0 ... 0.0 0.0 0.0] ... [0.0 0.0 0.0 ... 0.0 0.0 0.0] [0.0 0.0 0.0 ... 0.0 0.0 0.0] [0.0 0.0 0.0 ... 0.0 0.0 0.0]] \n",
      "\n",
      "dir_z [[0.0 0.0 0.0 ... 0.0 0.0 0.0] [0.0 0.0 0.0 ... 0.0 0.0 0.0] [0.0 0.0 0.0 ... 0.0 0.0 0.0] ... [0.0 0.0 0.0 ... 0.0 0.0 0.0] [0.0 0.0 0.0 ... 0.0 0.0 0.0] [0.0 0.0 0.0 ... 0.0 0.0 0.0]] \n",
      "\n",
      "t [[70104010.0 70104016.0 70104192.0 ... 70104325.0 70104328.0 70104841.0] [80860738.0 80861689.0 80862014.0 ... 80861565.0 80862226.0 80862149.0] [21074610.0 21074804.0 21074974.0 ... 21074971.0 21074973.0 21075048.0] ... [50438496.0 50440303.0 50438902.0 ... 50440181.0 50439670.0 50440360.0] [96932139.0 96932831.0 96932890.0 ... 96933278.0 96933277.0 96933317.0] [54748709.0 54748709.0 54748710.0 ... 54748490.0 54748485.0 54749367.0]] \n",
      "\n",
      "dom_id [[806451572 806451572 806451572 ... 809544061 809544061 809544061] [806451572 806451572 806451572 ... 809524432 809526097 809544061] [806451572 806451572 806451572 ... 809544061 809544061 809544061] ... [806451572 806455814 806465101 ... 809526097 809544058 809544061] [806455814 806455814 806455814 ... 809544061 809544061 809544061] [806455814 806455814 806455814 ... 809544058 809544058 809544061]] \n",
      "\n",
      "pos_x [[0.0 0.0 0.0 ... 0.0 0.0 0.0] [0.0 0.0 0.0 ... 0.0 0.0 0.0] [0.0 0.0 0.0 ... 0.0 0.0 0.0] ... [0.0 0.0 0.0 ... 0.0 0.0 0.0] [0.0 0.0 0.0 ... 0.0 0.0 0.0] [0.0 0.0 0.0 ... 0.0 0.0 0.0]] \n",
      "\n",
      "pattern_flags [[0 0 0 ... 0 0 0] [0 0 0 ... 0 0 0] [0 0 0 ... 0 0 0] ... [0 0 0 ... 0 0 0] [0 0 0 ... 0 0 0] [0 0 0 ... 0 0 0]] \n",
      "\n",
      "type [[0 0 0 ... 0 0 0] [0 0 0 ... 0 0 0] [0 0 0 ... 0 0 0] ... [0 0 0 ... 0 0 0] [0 0 0 ... 0 0 0] [0 0 0 ... 0 0 0]] \n",
      "\n"
     ]
    }
   ],
   "source": [
    "for key in r.events.hits._keymap.keys():\n",
    "    print(key, getattr(r.events.hits, key), \"\\n\")"
   ]
  },
  {
   "cell_type": "markdown",
   "metadata": {},
   "source": [
    "## test hits slicing"
   ]
  },
  {
   "cell_type": "code",
   "execution_count": 61,
   "metadata": {},
   "outputs": [
    {
     "data": {
      "text/plain": [
       "<ChunkedArray [[806451572 806451572 806451572 ... 809524432 809526097 809544061] [806451572 806451572 806451572 ... 809544061 809544061 809544061]] at 0x7f74897c3550>"
      ]
     },
     "execution_count": 61,
     "metadata": {},
     "output_type": "execute_result"
    }
   ],
   "source": [
    "r.events.hits[1:3].dom_id"
   ]
  },
  {
   "cell_type": "code",
   "execution_count": 62,
   "metadata": {},
   "outputs": [
    {
     "data": {
      "text/plain": [
       "<ChunkedArray [[806451572 806451572 806451572 ... 809524432 809526097 809544061] [806451572 806451572 806451572 ... 809544061 809544061 809544061]] at 0x7f74897b9190>"
      ]
     },
     "execution_count": 62,
     "metadata": {},
     "output_type": "execute_result"
    }
   ],
   "source": [
    "r.events.hits.dom_id[1:3]"
   ]
  },
  {
   "cell_type": "code",
   "execution_count": 63,
   "metadata": {},
   "outputs": [
    {
     "data": {
      "text/plain": [
       "array([806451572, 806451572], dtype=int32)"
      ]
     },
     "execution_count": 63,
     "metadata": {},
     "output_type": "execute_result"
    }
   ],
   "source": [
    "r.events.hits.dom_id[0][1:3]"
   ]
  },
  {
   "cell_type": "code",
   "execution_count": 64,
   "metadata": {},
   "outputs": [
    {
     "data": {
      "text/plain": [
       "array([806451572, 806451572], dtype=int32)"
      ]
     },
     "execution_count": 64,
     "metadata": {},
     "output_type": "execute_result"
    }
   ],
   "source": [
    "r.events.hits[0].dom_id[1:3]"
   ]
  },
  {
   "cell_type": "code",
   "execution_count": 65,
   "metadata": {},
   "outputs": [
    {
     "data": {
      "text/plain": [
       "array([806451572, 806451572, 806451572, 806455814, 806455814], dtype=int32)"
      ]
     },
     "execution_count": 65,
     "metadata": {},
     "output_type": "execute_result"
    }
   ],
   "source": [
    "r.events.hits[2:8:2].dom_id[0][0:5]"
   ]
  },
  {
   "cell_type": "code",
   "execution_count": 66,
   "metadata": {},
   "outputs": [
    {
     "data": {
      "text/plain": [
       "array([806451572, 806451572, 806451572, 806455814, 806455814], dtype=int32)"
      ]
     },
     "execution_count": 66,
     "metadata": {},
     "output_type": "execute_result"
    }
   ],
   "source": [
    "r.events.hits[2].dom_id[0:5]"
   ]
  },
  {
   "cell_type": "markdown",
   "metadata": {},
   "source": [
    "## BUGS IN HITS SLICING"
   ]
  },
  {
   "cell_type": "code",
   "execution_count": 67,
   "metadata": {},
   "outputs": [
    {
     "data": {
      "text/plain": [
       "array([806451572, 806451572, 806451572, 806451572, 806455814, 806455814,\n",
       "       806455814], dtype=int32)"
      ]
     },
     "execution_count": 67,
     "metadata": {},
     "output_type": "execute_result"
    }
   ],
   "source": [
    "# the following 4 slicing are not equivalent!\n",
    "r.events.hits[1:3][0].dom_id[0:7]"
   ]
  },
  {
   "cell_type": "code",
   "execution_count": 68,
   "metadata": {},
   "outputs": [
    {
     "data": {
      "text/plain": [
       "array([806451572, 806451572, 806451572, 806451572, 806455814, 806455814,\n",
       "       806455814], dtype=int32)"
      ]
     },
     "execution_count": 68,
     "metadata": {},
     "output_type": "execute_result"
    }
   ],
   "source": [
    "r.events[1:3][0].hits.dom_id[0:7]"
   ]
  },
  {
   "cell_type": "code",
   "execution_count": 69,
   "metadata": {},
   "outputs": [
    {
     "data": {
      "text/plain": [
       "array([806451572, 806451572, 806451572, 806451572, 806451572, 806455814,\n",
       "       806487226], dtype=int32)"
      ]
     },
     "execution_count": 69,
     "metadata": {},
     "output_type": "execute_result"
    }
   ],
   "source": [
    "r.events.hits.dom_id[1:3][0][0:7]"
   ]
  },
  {
   "cell_type": "code",
   "execution_count": 70,
   "metadata": {},
   "outputs": [
    {
     "data": {
      "text/plain": [
       "array([806451572, 806451572, 806451572, 806451572, 806451572, 806455814,\n",
       "       806487226], dtype=int32)"
      ]
     },
     "execution_count": 70,
     "metadata": {},
     "output_type": "execute_result"
    }
   ],
   "source": [
    "r.events[1].hits.dom_id[0:7]"
   ]
  },
  {
   "cell_type": "code",
   "execution_count": 71,
   "metadata": {},
   "outputs": [
    {
     "data": {
      "text/plain": [
       "<Branch[hits]: 1 element>"
      ]
     },
     "execution_count": 71,
     "metadata": {},
     "output_type": "execute_result"
    }
   ],
   "source": [
    "# same slicing issues observed in events are in hits\n",
    "r.events.hits[2, 8, 2]"
   ]
  },
  {
   "cell_type": "code",
   "execution_count": 72,
   "metadata": {},
   "outputs": [
    {
     "data": {
      "text/plain": [
       "<Branch[hits]: 3 elements>"
      ]
     },
     "execution_count": 72,
     "metadata": {},
     "output_type": "execute_result"
    }
   ],
   "source": [
    "r.events.hits[2:8:2]"
   ]
  },
  {
   "cell_type": "code",
   "execution_count": 79,
   "metadata": {},
   "outputs": [
    {
     "data": {
      "text/plain": [
       "array([806451572, 806451572, 806451572, 806455814, 806455814], dtype=int32)"
      ]
     },
     "execution_count": 79,
     "metadata": {},
     "output_type": "execute_result"
    }
   ],
   "source": [
    "# when multiples indexes are given, the last one is the one picked no matter how many indexes you provide\n",
    "r.events.hits[1:3][0][2].dom_id[0:5]"
   ]
  },
  {
   "cell_type": "code",
   "execution_count": 80,
   "metadata": {},
   "outputs": [
    {
     "data": {
      "text/plain": [
       "array([806451572, 806451572, 806451572, 806455814, 806455814], dtype=int32)"
      ]
     },
     "execution_count": 80,
     "metadata": {},
     "output_type": "execute_result"
    }
   ],
   "source": [
    "r.events.hits[1:3][3][0][10][2].dom_id[0:5]"
   ]
  },
  {
   "cell_type": "code",
   "execution_count": 81,
   "metadata": {},
   "outputs": [
    {
     "data": {
      "text/plain": [
       "array([806451572, 806451572, 806451572, 806455814, 806455814], dtype=int32)"
      ]
     },
     "execution_count": 81,
     "metadata": {},
     "output_type": "execute_result"
    }
   ],
   "source": [
    "r.events.hits[2].dom_id[0:5]"
   ]
  },
  {
   "cell_type": "code",
   "execution_count": 82,
   "metadata": {},
   "outputs": [
    {
     "data": {
      "text/plain": [
       "array([806451572, 806451572, 806451572, 806455814, 806455814], dtype=int32)"
      ]
     },
     "execution_count": 82,
     "metadata": {},
     "output_type": "execute_result"
    }
   ],
   "source": [
    "r.events.hits[2].dom_id[0:5]"
   ]
  },
  {
   "cell_type": "code",
   "execution_count": 83,
   "metadata": {},
   "outputs": [
    {
     "data": {
      "text/plain": [
       "array([806451572, 806451572, 806451572, 806455814, 806455814], dtype=int32)"
      ]
     },
     "execution_count": 83,
     "metadata": {},
     "output_type": "execute_result"
    }
   ],
   "source": [
    "r.events.hits.dom_id[2][0:5]"
   ]
  },
  {
   "cell_type": "markdown",
   "metadata": {},
   "source": [
    "## Explore tracks"
   ]
  },
  {
   "cell_type": "code",
   "execution_count": 84,
   "metadata": {},
   "outputs": [
    {
     "data": {
      "text/plain": [
       "<Branch[tracks]: 10 elements>"
      ]
     },
     "execution_count": 84,
     "metadata": {},
     "output_type": "execute_result"
    }
   ],
   "source": [
    "r.events.tracks"
   ]
  },
  {
   "cell_type": "code",
   "execution_count": 85,
   "metadata": {},
   "outputs": [
    {
     "data": {
      "text/plain": [
       "dict_keys(['rec_type', 'dir_z', 'pos_x', 'E', 'rec_stages', 'mother_id', 'pos_y', 'comment', 'lik', 't', 'hit_ids', 'type', 'fitinf', 'pos_z', 'error_matrix', 'usr_names', 'len', 'dir_y', 'dir_x', 'id', 'status'])"
      ]
     },
     "execution_count": 85,
     "metadata": {},
     "output_type": "execute_result"
    }
   ],
   "source": [
    "r.events.tracks._keymap.keys()"
   ]
  },
  {
   "cell_type": "code",
   "execution_count": 86,
   "metadata": {},
   "outputs": [
    {
     "name": "stdout",
     "output_type": "stream",
     "text": [
      "rec_type [[4000 4000 4000 ... 4000 4000 4000] [4000 4000 4000 ... 4000 4000 4000] [4000 4000 4000 ... 4000 4000 4000] ... [4000 4000 4000 ... 4000 4000 4000] [4000 4000 4000 ... 4000 4000 4000] [4000 4000 4000 ... 4000 4000 4000]] \n",
      "\n",
      "dir_z [[-0.872885221293917 -0.872885221293917 -0.872885221293917 ... -0.6631226836266504 -0.5680647731737454 -0.5680647731737454] [-0.8351996698137462 -0.8351996698137462 -0.8351996698137462 ... -0.7485107718446855 -0.8229838871876581 -0.239315690284641] [-0.989148723802379 -0.989148723802379 -0.989148723802379 ... -0.9350162572437829 -0.88545604390297 -0.88545604390297] ... [-0.5704611045902105 -0.5704611045902105 -0.5704611045902105 ... -0.9350162572437829 -0.4647231989130516 -0.4647231989130516] [-0.9779941383490359 -0.9779941383490359 -0.9779941383490359 ... -0.88545604390297 -0.88545604390297 -0.8229838871876581] [-0.7396916780974963 -0.7396916780974963 -0.7396916780974963 ... -0.6631226836266504 -0.7485107718446855 -0.7485107718446855]] \n",
      "\n",
      "pos_x [[445.835395997812 445.835395997812 448.13618811222716 ... 437.1352622535386 447.18041908144016 437.9909428953042] [465.0566061903734 465.0566061903734 456.3358108298098 ... 437.72911716883306 422.6901174542665 450.5902288953142] [456.97627814791457 456.97627814791457 448.9364133891661 ... 455.5927414336927 444.88498302906936 455.3141509175737] ... [469.38866361361505 469.38866361361505 443.32241936930103 ... 460.91059720373363 448.37890453054445 448.9993501938101] [412.30021434228166 412.30021434228166 425.9079025277854 ... 433.92598339488677 431.39245148223904 436.66425704368] [442.74845792289517 442.74845792289517 453.3443651782504 ... 455.22694283534497 457.05798019514134 446.900921036182]] \n",
      "\n",
      "E [[99.10458562488608 0.0 0.0 ... 0.0 0.0 0.0] [99.10458562488608 0.0 0.0 ... 0.0 0.0 0.0] [99.10458562488608 0.0 0.0 ... 0.0 0.0 0.0] ... [99.10458562488608 0.0 0.0 ... 0.0 0.0 0.0] [49.13672985920654 0.0 0.0 ... 0.0 0.0 0.0] [20.35137468173687 0.0 0.0 ... 0.0 0.0 0.0]] \n",
      "\n",
      "rec_stages [[[1, 3, 5, 4], [1, 3, 5], [1, 3], [1, 3], [1, 3], [1, 3], [1, 3], [1, 3], [1, 3], [1, 3], [1, 3], [1, 3], [1, 3], [1, 3], [1, 3], [1, 3], [1, 3], [1, 3], [1, 3], [1, 3], [1], [1], [1], [1], [1], [1], [1], [1], [1], [1], [1], [1], [1], [1], [1], [1], [1], [1], [1], [1], [1], [1], [1], [1], [1], [1], [1], [1], [1], [1], [1], [1], [1], [1], [1], [1]] [[1, 3, 5, 4], [1, 3, 5], [1, 3], [1, 3], [1, 3], [1, 3], [1, 3], [1, 3], [1, 3], [1, 3], [1, 3], [1, 3], [1, 3], [1, 3], [1, 3], [1, 3], [1, 3], [1, 3], [1, 3], [1], [1], [1], [1], [1], [1], [1], [1], [1], [1], [1], [1], [1], [1], [1], [1], [1], [1], [1], [1], [1], [1], [1], [1], [1], [1], [1], [1], [1], [1], [1], [1], [1], [1], [1], [1]] [[1, 3, 5, 4], [1, 3, 5], [1, 3], [1, 3], [1, 3], [1, 3], [1, 3], [1, 3], [1, 3], [1, 3], [1, 3], [1, 3], [1, 3], [1, 3], [1, 3], [1, 3], [1, 3], [1, 3], [1, 3], [1, 3], [1], [1], [1], [1], [1], [1], [1], [1], [1], [1], [1], [1], [1], [1], [1], [1], [1], [1], [1], [1], [1], [1], [1], [1], [1], [1], [1], [1], [1], [1], [1], [1], [1], [1], [1], [1]] ... [[1, 3, 5, 4], [1, 3, 5], [1, 3], [1, 3], [1, 3], [1, 3], [1, 3], [1, 3], [1, 3], [1, 3], [1, 3], [1, 3], [1, 3], [1, 3], [1, 3], [1, 3], [1, 3], [1, 3], [1, 3], [1, 3], [1], [1], [1], [1], [1], [1], [1], [1], [1], [1], [1], [1], [1], [1], [1], [1], [1], [1], [1], [1], [1], [1], [1], [1], [1], [1], [1], [1], [1], [1], [1], [1], [1], [1], [1], [1]] [[1, 3, 5, 4], [1, 3, 5], [1, 3], [1, 3], [1, 3], [1, 3], [1, 3], [1, 3], [1, 3], [1, 3], [1, 3], [1, 3], [1, 3], [1, 3], [1, 3], [1, 3], [1, 3], [1, 3], [1], [1], [1], [1], [1], [1], [1], [1], [1], [1], [1], [1], [1], [1], [1], [1], [1], [1], [1], [1], [1], [1], [1], [1], [1], [1], [1], [1], [1], [1], [1], [1], [1], [1], [1], [1]] [[1, 3, 5, 4], [1, 3, 5], [1, 3], [1, 3], [1, 3], [1, 3], [1, 3], [1, 3], [1, 3], [1, 3], [1, 3], [1, 3], [1, 3], [1, 3], [1, 3], [1, 3], [1, 3], [1, 3], [1, 3], [1, 3], [1], [1], [1], [1], [1], [1], [1], [1], [1], [1], [1], [1], [1], [1], [1], [1], [1], [1], [1], [1], [1], [1], [1], [1], [1], [1], [1], [1], [1], [1], [1], [1], [1], [1], [1], [1]]] \n",
      "\n",
      "mother_id [[-1 -1 -1 ... -1 -1 -1] [-1 -1 -1 ... -1 -1 -1] [-1 -1 -1 ... -1 -1 -1] ... [-1 -1 -1 ... -1 -1 -1] [-1 -1 -1 ... -1 -1 -1] [-1 -1 -1 ... -1 -1 -1]] \n",
      "\n",
      "pos_y [[615.1089636184813 615.1089636184813 584.7490001284564 ... 576.6419859859786 574.836340445788 576.5382993955498] [532.6821160545169 532.6821160545169 558.6402860858977 ... 568.9013935203095 561.306743038132 573.8918186504227] [592.7509917096395 592.7509917096395 580.7299495313404 ... 589.5047766926322 576.5960068178157 582.7181874479529] ... [569.4429308779023 569.4429308779023 555.0450935226883 ... 552.8542841375304 565.4155494172749 570.5900790231348] [556.7207991599776 556.7207991599776 575.1246476381322 ... 590.3153907297511 577.4299603269698 576.4850831755518] [531.8248341765424 531.8248341765424 571.9935063462642 ... 565.0225888427599 567.8866176167282 569.7079035583095]] \n",
      "\n",
      "comment [b'\\x00\\x00:\\x00\\t\\x00\\x00\\x00\\x00\\x00\\x00\\x00\\x00\\x00\\x00\\x00\\x00\\x00\\x00\\x00\\x00\\x00\\x00\\x00\\x00\\x00\\x00\\x00\\x00\\x00\\x00\\x00\\x00\\x00\\x00\\x00\\x00\\x00\\x00\\x00\\x00\\x00\\x00\\x00\\x00\\x00\\x00\\x00\\x00\\x00\\x00\\x00\\x00\\x00\\x00\\x00\\x00\\x00\\x00\\x00\\x00' b'\\x00\\x009\\x00\\t\\x00\\x00\\x00\\x00\\x00\\x00\\x00\\x00\\x00\\x00\\x00\\x00\\x00\\x00\\x00\\x00\\x00\\x00\\x00\\x00\\x00\\x00\\x00\\x00\\x00\\x00\\x00\\x00\\x00\\x00\\x00\\x00\\x00\\x00\\x00\\x00\\x00\\x00\\x00\\x00\\x00\\x00\\x00\\x00\\x00\\x00\\x00\\x00\\x00\\x00\\x00\\x00\\x00\\x00\\x00' b'\\x00\\x00:\\x00\\t\\x00\\x00\\x00\\x00\\x00\\x00\\x00\\x00\\x00\\x00\\x00\\x00\\x00\\x00\\x00\\x00\\x00\\x00\\x00\\x00\\x00\\x00\\x00\\x00\\x00\\x00\\x00\\x00\\x00\\x00\\x00\\x00\\x00\\x00\\x00\\x00\\x00\\x00\\x00\\x00\\x00\\x00\\x00\\x00\\x00\\x00\\x00\\x00\\x00\\x00\\x00\\x00\\x00\\x00\\x00\\x00' ... b'\\x00\\x00:\\x00\\t\\x00\\x00\\x00\\x00\\x00\\x00\\x00\\x00\\x00\\x00\\x00\\x00\\x00\\x00\\x00\\x00\\x00\\x00\\x00\\x00\\x00\\x00\\x00\\x00\\x00\\x00\\x00\\x00\\x00\\x00\\x00\\x00\\x00\\x00\\x00\\x00\\x00\\x00\\x00\\x00\\x00\\x00\\x00\\x00\\x00\\x00\\x00\\x00\\x00\\x00\\x00\\x00\\x00\\x00\\x00\\x00' b'\\x00\\x008\\x00\\t\\x00\\x00\\x00\\x00\\x00\\x00\\x00\\x00\\x00\\x00\\x00\\x00\\x00\\x00\\x00\\x00\\x00\\x00\\x00\\x00\\x00\\x00\\x00\\x00\\x00\\x00\\x00\\x00\\x00\\x00\\x00\\x00\\x00\\x00\\x00\\x00\\x00\\x00\\x00\\x00\\x00\\x00\\x00\\x00\\x00\\x00\\x00\\x00\\x00\\x00\\x00\\x00\\x00\\x00' b'\\x00\\x00:\\x00\\t\\x00\\x00\\x00\\x00\\x00\\x00\\x00\\x00\\x00\\x00\\x00\\x00\\x00\\x00\\x00\\x00\\x00\\x00\\x00\\x00\\x00\\x00\\x00\\x00\\x00\\x00\\x00\\x00\\x00\\x00\\x00\\x00\\x00\\x00\\x00\\x00\\x00\\x00\\x00\\x00\\x00\\x00\\x00\\x00\\x00\\x00\\x00\\x00\\x00\\x00\\x00\\x00\\x00\\x00\\x00\\x00'] \n",
      "\n",
      "lik [[294.6407542676734 294.6407542676734 294.6407542676734 ... 67.81221253265059 67.7756405143316 67.77250505700384] [96.75133289411137 96.75133289411137 96.75133289411137 ... 39.21916536442286 39.184645826013806 38.870325146341884] [560.2775306614813 560.2775306614813 560.2775306614813 ... 118.88577278801066 118.72271313687405 117.80785995187605] ... [71.03251451148226 71.03251451148226 71.03251451148226 ... 16.714140573909347 16.444395245214945 16.34639241716669] [326.440133294878 326.440133294878 326.440133294878 ... 87.79818671079849 87.75488082571873 87.74839444768625] [159.77779654216795 159.77779654216795 159.77779654216795 ... 33.8669134999348 33.821631538334984 33.77240735670646]] \n",
      "\n",
      "t [[70311446.46401498 70311446.46401498 70311654.61117297 ... 70311683.2353524 70311708.66424978 70311684.16415063] [81069279.01568094 81069279.01568094 81069445.10976088 ... 81069437.67198294 81069419.26284504 81069459.9383858] [21281877.23727164 21281877.23727164 21282205.58111657 ... 21282093.781254828 21282304.781291172 21282089.686024837] ... [50647054.86606736 50647054.86606736 50647175.804482765 ... 50647159.929642916 50647178.079313464 50647171.091511495] [97140170.8297744 97140170.8297744 97140536.76962857 ... 97140507.29094493 97140515.59293483 97140503.94516201] [54956248.773242526 54956248.773242526 54956454.69099563 ... 54956424.50595258 54956448.26660952 54956426.73765264]] \n",
      "\n",
      "hit_ids [[[], [], [], [], [], [], [], [], [], [], [], [], [], [], [], [], [], [], [], [], [], [], [], [], [], [], [], [], [], [], [], [], [], [], [], [], [], [], [], [], [], [], [], [], [], [], [], [], [], [], [], [], [], [], [], []] [[], [], [], [], [], [], [], [], [], [], [], [], [], [], [], [], [], [], [], [], [], [], [], [], [], [], [], [], [], [], [], [], [], [], [], [], [], [], [], [], [], [], [], [], [], [], [], [], [], [], [], [], [], [], []] [[], [], [], [], [], [], [], [], [], [], [], [], [], [], [], [], [], [], [], [], [], [], [], [], [], [], [], [], [], [], [], [], [], [], [], [], [], [], [], [], [], [], [], [], [], [], [], [], [], [], [], [], [], [], [], []] ... [[], [], [], [], [], [], [], [], [], [], [], [], [], [], [], [], [], [], [], [], [], [], [], [], [], [], [], [], [], [], [], [], [], [], [], [], [], [], [], [], [], [], [], [], [], [], [], [], [], [], [], [], [], [], [], []] [[], [], [], [], [], [], [], [], [], [], [], [], [], [], [], [], [], [], [], [], [], [], [], [], [], [], [], [], [], [], [], [], [], [], [], [], [], [], [], [], [], [], [], [], [], [], [], [], [], [], [], [], [], []] [[], [], [], [], [], [], [], [], [], [], [], [], [], [], [], [], [], [], [], [], [], [], [], [], [], [], [], [], [], [], [], [], [], [], [], [], [], [], [], [], [], [], [], [], [], [], [], [], [], [], [], [], [], [], [], []]] \n",
      "\n",
      "type [[0 0 0 ... 0 0 0] [0 0 0 ... 0 0 0] [0 0 0 ... 0 0 0] ... [0 0 0 ... 0 0 0] [0 0 0 ... 0 0 0] [0 0 0 ... 0 0 0]] \n",
      "\n",
      "fitinf [[[0.004957442219414389, 0.003417848024252858, -294.6407542676734, 142.0, 99.10458562488608, 1.7976931348623157e+308, 4.2409761837248484e-12, 10.0, 24.88469697331908, 55.88169412579765, 98.89582506402911, 0.0, 0.0, 344.9767431592819, -333.87773581129136, 1471.0, 101.0], [0.004957442219414389, 0.003417848024252858, -294.6407542676734, 142.0, 0.0, 0.0, 4.2409761837248484e-12, 10.0, 24.88469697331908, 55.88169412579765, 98.89582506402911], [0.004957442219414389, 0.003417848024252858, -294.6407542676734, 142.0, 0.0, 0.0, 4.2409761837248484e-12, 10.0], [0.004719629408898959, 0.003236508273031723, -291.64653112688273, 144.0, 0.0, 0.0, 0.5367539436433288, 30.0], [0.005294526166511285, 0.0036953111931467973, -291.2739266283205, 140.0, 0.0, 0.0, 13.175546315760062, 21.0], [0.0054722154809507305, 0.003789119125092875, -290.69031511811585, 139.0, 0.0, 0.0, 1.63507990826558e-22, 20.0], [0.005314530601794095, 0.003697041575820802, -289.1929054594669, 139.0, 0.0, 0.0, 0.6560325977862909, 28.0], [0.0054992076230316765, 0.003765064698853604, -289.08449217344435, 140.0, 0.0, 0.0, 7.6277684443854685e-31, 28.0], [0.004527389784380613, 0.0031207218377794217, -289.03373946575397, 145.0, 0.0, 0.0, 4.8307854927899605, 31.0], [0.005195464210823588, 0.003650840800825019, -288.1903083622409, 141.0, 0.0, 0.0, 391.2936249159867, 32.0], [0.005356186661284501, 0.003760520031091975, -282.92343367284644, 139.0, 0.0, 0.0, 175.34850577650366, 40.0], [0.004805773856236996, 0.0032836482112356363, -282.7152711763573, 137.0, 0.0, 0.0, 6.303940863128486e-33, 30.0], [0.004985939098954117, 0.0034553111034975165, -282.10762402002524, 138.0, 0.0, 0.0, 6.934334949441335e-32, 29.0], [0.005548426798942948, 0.003856019228200045, -280.2055386107341, 136.0, 0.0, 0.0, 1.0152559799477059e-27, 25.0], [0.004703449312044649, 0.003304691671557449, -275.9318396634045, 134.0, 0.0, 0.0, 15.940773252409414, 42.0], [0.00402616408257896, 0.002844411014469893, -273.01809110647486, 142.0, 0.0, 0.0, 7.143461055191462, 50.0], [0.004784832019744069, 0.003366064578920819, -257.4643369415751, 128.0, 0.0, 0.0, 5.730855330116806e-34, 31.0], [0.006302925705274121, 0.004433052824479286, -220.94357656315776, 116.0, 0.0, 0.0, 1.660024654558977e-47, 44.0], [0.0048012902086124664, 0.003381283754343847, -194.9942640276911, 133.0, 0.0, 0.0, 2.121281007469168, 85.0], [0.005683550709658543, 0.004001628466718923, -190.47809684601157, 138.0, 0.0, 0.0, 1.0152559799477059e-27, 25.0], [], [], [], [], [], [], [], [], [], [], [], [], [], [], [], [], [], [], [], [], [], [], [], [], [], [], [], [], [], [], [], [], [], [], [], []] [[0.01837814570268761, 0.009401304503949024, -96.75133289411137, 72.0, 99.10458562488608, 1.7976931348623157e+308, 259.2943164149993, 59.0, 16.87128649083537, 24.773873409176925, 59.43893182922881, 0.0, 0.0, 344.9767431592819, -178.51901912484058, 790.0, 54.0], [0.01837814570268761, 0.009401304503949024, -96.75133289411137, 72.0, 0.0, 0.0, 259.2943164149993, 59.0, 16.87128649083537, 24.773873409176925, 59.43893182922881], [0.01837814570268761, 0.009401304503949024, -96.75133289411137, 72.0, 0.0, 0.0, 259.2943164149993, 59.0], [0.02201547613071057, 0.015535865577276743, -84.2067682289437, 65.0, 0.0, 0.0, 173.57718702161117, 63.0], [0.009962684112466327, 0.006218726329075257, -68.44360023862333, 65.0, 0.0, 0.0, 0.649405550471951, 51.0], [0.009057207326990935, 0.006073817439248801, -66.7026617631251, 68.0, 0.0, 0.0, 3.1051294347758134, 127.0], [0.024794473173111564, 0.011510096892880482, -54.74580517946498, 67.0, 0.0, 0.0, 8.642699907025106, 71.0], [0.018238086050097687, 0.01220463979802872, -51.426627504730945, 72.0, 0.0, 0.0, 3.2011644001851773, 58.0], [0.01142093182220006, 0.008064130859549486, -47.922179288986925, 65.0, 0.0, 0.0, 142.01769847222732, 65.0], [0.0151084795044782, 0.010381694118437089, -35.98142296666798, 68.0, 0.0, 0.0, 0.1088888125269427, 23.0], [0.017100357587233123, 0.009439673241701758, -30.0275558225137, 50.0, 0.0, 0.0, 5.844649954247562, 52.0], [0.013473288827234512, 0.008671109061093175, -24.559134549656747, 68.0, 0.0, 0.0, 261.94036048094983, 36.0], [0.015610771957351867, 0.011030663603289087, 1.9156863019095027, 50.0, 0.0, 0.0, 78.57807160710611, 49.0], [0.019746352646848882, 0.013883830299579585, 8.351106742867, 52.0, 0.0, 0.0, 261.9403604809497, 36.0], [0.012088221408078324, 0.008229255328997445, 9.742757863850898, 60.0, 0.0, 0.0, 52.07048125802729, 76.0], [0.022803157787068356, 0.014902569770652949, 26.869381349090876, 73.0, 0.0, 0.0, 16.10344549704008, 19.0], [0.02930835274814564, 0.020499769972763548, 34.15092624748651, 65.0, 0.0, 0.0, 391.2936249159871, 32.0], [0.02059774560543542, 0.013907082358904328, 48.11360240557035, 63.0, 0.0, 0.0, 0.2969847439630925, 13.0], [0.042884449394297065, 0.029805513852383055, 63.09250638099999, 71.0, 0.0, 0.0, 118.57991684184057, 21.0], [], [], [], [], [], [], [], [], [], [], [], [], [], [], [], [], [], [], [], [], [], [], [], [], [], [], [], [], [], [], [], [], [], [], [], []] [[0.0022862363916181096, 0.0015619992272287897, -560.2775306614813, 261.0, 99.10458562488608, 1.7976931348623157e+308, 5.84464995424756, 52.0, 91.37269495454369, 148.1224810941145, 165.70400027827318, 0.0, 0.0, 344.9767431592819, -654.1882814711497, 2526.0, 198.0], [0.0022862363916181096, 0.0015619992272287897, -560.2775306614813, 261.0, 0.0, 0.0, 5.84464995424756, 52.0, 91.37269495454369, 148.1224810941145, 165.70400027827318], [0.0022862363916181096, 0.0015619992272287897, -560.2775306614813, 261.0, 0.0, 0.0, 5.84464995424756, 52.0], [0.0020167465498183356, 0.0014258185114708539, -555.1502670358686, 261.0, 0.0, 0.0, 7.143461055191461, 50.0], [0.002357283981425824, 0.0016066887509470545, -554.0368960047508, 261.0, 0.0, 0.0, 173.577187021611, 63.0], [0.0020626093160598775, 0.001458034522102716, -546.9353716603197, 260.0, 0.0, 0.0, 6.303940863128486e-33, 30.0], [0.0021645249713906117, 0.0015281573026427616, -526.9663741033618, 261.0, 0.0, 0.0, 10.35096314849791, 115.0], [0.002168311679029125, 0.0015304048100882525, -526.1387002981626, 260.0, 0.0, 0.0, 1.1338191753015348e-51, 48.0], [0.002460297248735163, 0.0017120724142681472, -513.2317678852277, 250.0, 0.0, 0.0, 3.666580290107375e-49, 82.0], [0.0023444318461086945, 0.001644600455921348, -465.24715475101726, 251.0, 0.0, 0.0, 0.5153918540574399, 122.0], [0.0026915792346784186, 0.0018978273239060788, -457.963694079026, 246.0, 0.0, 0.0, 9.513361139704632e-79, 74.0], [0.0028635318370874353, 0.0019462748167936902, -456.16723694257746, 233.0, 0.0, 0.0, 0.4259874434179577, 101.0], [0.0022327007437369165, 0.0015728178605420393, -396.619931042022, 234.0, 0.0, 0.0, 0.002909850490355512, 82.0], [0.0019734522428454075, 0.0013835119428758057, -394.7144703662219, 257.0, 0.0, 0.0, 1.7533049194102137, 64.0], [0.002297450239023103, 0.0015922227968044862, -344.89671868867555, 236.0, 0.0, 0.0, 137.75716603612096, 134.0], [0.003579821828037437, 0.0025288162062499604, -265.2472866793594, 244.0, 0.0, 0.0, 1.8260271200148748e-46, 43.0], [0.004281164582241985, 0.0026838839037040428, -253.65317895803085, 246.0, 0.0, 0.0, 6.303940863128486e-33, 30.0], [0.004599526232667707, 0.002556970556397868, -246.12091464595224, 222.0, 0.0, 0.0, 4.781986326202548, 54.0], [0.0034190990053427303, 0.0020900627289853857, -112.58612833766367, 261.0, 0.0, 0.0, 216.50187834909443, 15.0], [0.003192219024130933, 0.00221227170095521, -93.85762874460227, 248.0, 0.0, 0.0, 214.3148403935044, 38.0], [], [], [], [], [], [], [], [], [], [], [], [], [], [], [], [], [], [], [], [], [], [], [], [], [], [], [], [], [], [], [], [], [], [], [], []] ... [[0.020086078458174426, 0.014202233969464604, -71.03251451148226, 37.0, 99.10458562488608, 1.7976931348623157e+308, 8.819993814682357, 25.0, 10.778322287675627, 10.778322287675627, 20.79831554625989, 0.0, 0.0, 344.9767431592819, -72.82894968398637, 572.0, 22.0], [0.020086078458174426, 0.014202233969464604, -71.03251451148226, 37.0, 0.0, 0.0, 8.819993814682357, 25.0, 10.778322287675627, 10.778322287675627, 20.79831554625989], [0.020086078458174426, 0.014202233969464604, -71.03251451148226, 37.0, 0.0, 0.0, 8.819993814682357, 25.0], [0.016254457925670904, 0.010926072292555891, -70.36040894534977, 38.0, 0.0, 0.0, 43.47706943510966, 32.0], [0.03128080452178432, 0.02199555882384733, -69.58200751520693, 35.0, 0.0, 0.0, 43.47706943510964, 32.0], [0.053073661379679934, 0.03358417296324308, -66.00736076080851, 29.0, 0.0, 0.0, 10.779992440167325, 23.0], [0.04538077844024779, 0.03056435005079881, -62.458799132637594, 29.0, 0.0, 0.0, 7.07129992392963, 73.0], [0.02412292639059453, 0.017005855187276486, -61.55442074782618, 40.0, 0.0, 0.0, 10.671096144174903, 46.0], [0.03434895535201353, 0.0234451889918057, -61.35908563896399, 29.0, 0.0, 0.0, 0.9799993127424843, 24.0], [0.018362752274131925, 0.012980666802513906, -59.86096671297177, 42.0, 0.0, 0.0, 29.10448449788332, 36.0], [0.03799038731891468, 0.025026899166019998, -59.69471876419879, 29.0, 0.0, 0.0, 0.6560325977862911, 28.0], [0.017901716766201656, 0.01261873088314228, -53.39289175672436, 40.0, 0.0, 0.0, 118.57991684184061, 21.0], [0.017301293754937937, 0.010062217260867267, -52.67809091474756, 39.0, 0.0, 0.0, 8.819993814682359, 25.0], [0.036307112316621884, 0.022811672968736305, -40.529825786513506, 29.0, 0.0, 0.0, 144.9310094733607, 19.0], [0.025423810335113158, 0.017215668130284602, -40.22705223294884, 30.0, 0.0, 0.0, 78.57807160710614, 49.0], [0.028687703982865322, 0.02028399623267877, -16.397818456547, 34.0, 0.0, 0.0, 175.34850577650366, 40.0], [0.023562614961613992, 0.016589768196775264, -3.389957149412563, 39.0, 0.0, 0.0, 97.01993196150589, 24.0], [0.03815570627213495, 0.021538832900944677, 1.7850989080532256, 40.0, 0.0, 0.0, 478.24776378620624, 30.0], [0.06087116573874263, 0.028755015433113096, 2.9307879642709835, 42.0, 0.0, 0.0, 391.2936249159871, 32.0], [0.06449885755114923, 0.04031635003242602, 9.613679461464685, 37.0, 0.0, 0.0, 177.1379004674409, 17.0], [], [], [], [], [], [], [], [], [], [], [], [], [], [], [], [], [], [], [], [], [], [], [], [], [], [], [], [], [], [], [], [], [], [], [], []] [[0.003552591916577011, 0.0024146277135960043, -326.440133294878, 210.0, 49.13672985920654, 332.5150429430715, 5.669310394631835, 121.0, 18.66476255454435, 127.1982084011216, 179.3577904913834, 0.0, 0.0, 180.1855438245745, -inf, 2556.0, 122.0], [0.003552591916577011, 0.0024146277135960043, -326.440133294878, 210.0, 0.0, 0.0, 5.669310394631835, 121.0, 18.66476255454435, 127.1982084011216, 179.3577904913834], [0.003552591916577011, 0.0024146277135960043, -326.440133294878, 210.0, 0.0, 0.0, 5.669310394631835, 121.0], [0.003214964906533646, 0.002104843880209572, -247.24758404027986, 205.0, 0.0, 0.0, 29.104484497883327, 36.0], [0.007539424129767921, 0.005273678586936367, -147.82844043029857, 202.0, 0.0, 0.0, 8.730896845234009, 48.0], [0.005139124718275706, 0.0036276391337250087, -132.82491596911694, 172.0, 0.0, 0.0, 130.93841589360846, 249.0], [0.00275411634181062, 0.0019079058047934275, -131.16812700649547, 210.0, 0.0, 0.0, 578.6203454705085, 51.0], [0.004352059840925216, 0.002715338411265062, -125.87800718291564, 172.0, 0.0, 0.0, 243.97001706579846, 197.0], [0.006651293425072921, 0.00385060116192723, -118.71862106037875, 162.0, 0.0, 0.0, 61.732447671811386, 143.0], [0.0035728956740931645, 0.002523082008735489, -97.04409780736536, 189.0, 0.0, 0.0, 1.2662283676946866e-75, 71.0], [0.012234827365933362, 0.008496784632641382, -13.40905023970176, 136.0, 0.0, 0.0, 259.29431641499934, 59.0], [0.018287875285567412, 0.011943735268048594, -9.123003885504865, 135.0, 0.0, 0.0, 117.38205758592387, 44.0], [0.007375947535817767, 0.005094438020807106, -5.50179406348115, 137.0, 0.0, 0.0, 1.138488975505133, 137.0], [0.0, 0.0, 1.1544258958598164, 17.0, 0.0, 0.0, 483.1281818181819, 7.0], [0.01079804431116577, 0.007416872301489941, 2.3893661686987233, 124.0, 0.0, 0.0, 173.57718702161108, 63.0], [0.008950892773464633, 0.005664426509503225, 6.253389447291601, 137.0, 0.0, 0.0, 259.2943164149994, 59.0], [0.019306925281464427, 0.013019648818865236, 13.51572528198585, 136.0, 0.0, 0.0, 117.38205758592383, 44.0], [0.013458008040839499, 0.00800916900328923, 70.25524760384208, 161.0, 0.0, 0.0, 0.1317419277058629, 44.0], [], [], [], [], [], [], [], [], [], [], [], [], [], [], [], [], [], [], [], [], [], [], [], [], [], [], [], [], [], [], [], [], [], [], [], []] [[0.009290906625313346, 0.006569492242345319, -159.77779654216795, 69.0, 20.35137468173687, 160.35803427963492, 0.3629813537326686, 11.0, 27.062963044762213, 38.76812845073792, 77.48874778080048, 0.0, 0.0, 79.88416441585927, -inf, 1839.0, 54.0], [0.009290906625313346, 0.006569492242345319, -159.77779654216795, 69.0, 0.0, 0.0, 0.3629813537326686, 11.0, 27.062963044762213, 38.76812845073792, 77.48874778080048], [0.009290906625313346, 0.006569492242345319, -159.77779654216795, 69.0, 0.0, 0.0, 0.3629813537326686, 11.0], [0.009298289042586583, 0.00656570431561229, -159.58184414184012, 69.0, 0.0, 0.0, 3.2338316108759235, 35.0], [0.00884416583882439, 0.006248463883674473, -157.4051034420931, 73.0, 0.0, 0.0, 35.57214771963516, 34.0], [0.009555001189283329, 0.00673012434174961, -157.11400730088064, 74.0, 0.0, 0.0, 78.57807160710607, 49.0], [0.00863988240235126, 0.006076060196943233, -155.7252310182191, 68.0, 0.0, 0.0, 1.1167815779424764e-26, 24.0], [0.009302658705145586, 0.006530045470235909, -154.16870580142987, 69.0, 0.0, 0.0, 1.798587899092138e-21, 19.0], [0.008763280812108133, 0.006050716173147082, -153.20421148011852, 67.0, 0.0, 0.0, 116.19629875000412, 67.0], [0.009024432863370747, 0.006338606436232563, -150.54309654909486, 70.0, 0.0, 0.0, 0.04879581305848443, 31.0], [0.008786215877111193, 0.006076440433916107, -148.7453476372617, 69.0, 0.0, 0.0, 8.390545288824016e-30, 27.0], [0.008525025644604606, 0.005935125962605894, -144.34206992219492, 72.0, 0.0, 0.0, 9.229599817706417e-29, 26.0], [0.009240064235744569, 0.0062873961663417076, -144.06357638322007, 70.0, 0.0, 0.0, 2.940834937055156e-41, 38.0], [0.008602077700418738, 0.006010991482070132, -141.82229352881654, 74.0, 0.0, 0.0, 1.63507990826558e-22, 20.0], [0.009452940335932417, 0.006445352555150103, -139.57463830132738, 72.0, 0.0, 0.0, 2.619134509242418, 60.0], [0.010269973691026044, 0.006753776646732184, -138.31548264801467, 70.0, 0.0, 0.0, 7.040125024380691e-57, 53.0], [0.009884042438625389, 0.006647337586455819, -136.66240060494894, 73.0, 0.0, 0.0, 1.8260271200148748e-46, 43.0], [0.009163865673245678, 0.006262586290421095, -133.8189651508971, 74.0, 0.0, 0.0, 0.10562214701489123, 92.0], [0.007864199194778373, 0.005482790542439787, -127.17095089304173, 75.0, 0.0, 0.0, 62.99880968770013, 97.0], [0.01233127712058885, 0.008624837277518092, -47.27932228273378, 68.0, 0.0, 0.0, 714.4194989892709, 26.0], [], [], [], [], [], [], [], [], [], [], [], [], [], [], [], [], [], [], [], [], [], [], [], [], [], [], [], [], [], [], [], [], [], [], [], []]] \n",
      "\n",
      "pos_z [[125.1448339836911 125.1448339836911 70.67596857198924 ... 67.93995803573398 56.54673507711715 67.70310774246235] [80.73206374676195 80.73206374676195 39.14433811272721 ... 63.51672768935515 63.36061131261634 55.93321212560954] [193.82544167917783 193.82544167917783 96.45857880180982 ... 125.01676435746056 70.57841338281384 133.07172993076955] ... [200.08209821609847 200.08209821609847 179.39921806319703 ... 176.79144378336818 180.93504168544308 181.68208769396205] [208.6007675734029 208.6007675734029 101.3089344511911 ... 119.697125350878 117.55875838546586 118.46276991847174] [171.78813126087806 171.78813126087806 126.12504865129188 ... 132.1331213744047 126.63839255084935 132.95673762910673]] \n",
      "\n",
      "error_matrix [[[], [], [], [], [], [], [], [], [], [], [], [], [], [], [], [], [], [], [], [], [], [], [], [], [], [], [], [], [], [], [], [], [], [], [], [], [], [], [], [], [], [], [], [], [], [], [], [], [], [], [], [], [], [], [], []] [[], [], [], [], [], [], [], [], [], [], [], [], [], [], [], [], [], [], [], [], [], [], [], [], [], [], [], [], [], [], [], [], [], [], [], [], [], [], [], [], [], [], [], [], [], [], [], [], [], [], [], [], [], [], []] [[], [], [], [], [], [], [], [], [], [], [], [], [], [], [], [], [], [], [], [], [], [], [], [], [], [], [], [], [], [], [], [], [], [], [], [], [], [], [], [], [], [], [], [], [], [], [], [], [], [], [], [], [], [], [], []] ... [[], [], [], [], [], [], [], [], [], [], [], [], [], [], [], [], [], [], [], [], [], [], [], [], [], [], [], [], [], [], [], [], [], [], [], [], [], [], [], [], [], [], [], [], [], [], [], [], [], [], [], [], [], [], [], []] [[], [], [], [], [], [], [], [], [], [], [], [], [], [], [], [], [], [], [], [], [], [], [], [], [], [], [], [], [], [], [], [], [], [], [], [], [], [], [], [], [], [], [], [], [], [], [], [], [], [], [], [], [], []] [[], [], [], [], [], [], [], [], [], [], [], [], [], [], [], [], [], [], [], [], [], [], [], [], [], [], [], [], [], [], [], [], [], [], [], [], [], [], [], [], [], [], [], [], [], [], [], [], [], [], [], [], [], [], [], []]] \n",
      "\n",
      "usr_names [[] [] [] ... [] [] []] \n",
      "\n",
      "len [[0.0 0.0 0.0 ... 0.0 0.0 0.0] [0.0 0.0 0.0 ... 0.0 0.0 0.0] [0.0 0.0 0.0 ... 0.0 0.0 0.0] ... [0.0 0.0 0.0 ... 0.0 0.0 0.0] [0.0 0.0 0.0 ... 0.0 0.0 0.0] [0.0 0.0 0.0 ... 0.0 0.0 0.0]] \n",
      "\n",
      "dir_y [[-0.48653048395923415 -0.48653048395923415 -0.48653048395923415 ... -0.6266281131604907 -0.8023499364822877 -0.7127249444251654] [0.5213137941218786 0.5213137941218786 0.5213137941218786 ... -0.12184849582599487 0.24647402262756626 -0.12169132327224642] [-0.12212161487029954 -0.12212161487029954 -0.12212161487029954 ... -0.12128197194978461 0.3286088703010397 -0.4024620246304935] ... [-0.3971113375239191 -0.3971113375239191 -0.3971113375239191 ... -0.34921759976599953 0.23889313678865273 -0.12056962049655025] [0.16775606689651118 0.16775606689651118 0.16775606689651118 ... -0.12027922119479342 0.3286088855518458 -0.44413090008955436] [0.6506882765276157 0.6506882765276157 0.6506882765276157 ... 0.6266280941603121 0.44674283340909315 -0.5936030559619353]] \n",
      "\n",
      "dir_x [[0.0368711082700674 0.0368711082700674 0.0368711082700674 ... -0.40939652448049985 -0.18313108121214716 -0.4114918797172139] [-0.17513834417756996 -0.17513834417756996 -0.17513834417756996 ... -0.6518317025869604 -0.5118086337678155 -0.9632856389585778] [-0.08167688401007625 -0.08167688401007625 -0.08167688401007625 ... 0.3332195702082933 -0.32860889317724845 0.2323615997664543] ... [-0.7189413840916944 -0.7189413840916944 -0.7189413840916944 ... 0.061576510972140966 -0.8526209108315947 -0.8772088206381295] [0.12403776591965926 0.12403776591965926 0.12403776591965926 ... -0.44888807431750266 0.3286088779264427 -0.3541825306464651] [0.1716420348948096 0.1716420348948096 0.1716420348948096 ... 0.4093965535624405 0.4900535330247997 -0.295579154178918]] \n",
      "\n",
      "id [[1 2 3 ... 54 55 56] [1 2 3 ... 53 54 55] [1 2 3 ... 54 55 56] ... [1 2 3 ... 54 55 56] [1 2 3 ... 52 53 54] [1 2 3 ... 54 55 56]] \n",
      "\n",
      "status [[0 0 0 ... 0 0 0] [0 0 0 ... 0 0 0] [0 0 0 ... 0 0 0] ... [0 0 0 ... 0 0 0] [0 0 0 ... 0 0 0] [0 0 0 ... 0 0 0]] \n",
      "\n"
     ]
    }
   ],
   "source": [
    "for key in r.events.tracks._keymap.keys():\n",
    "    print(key, getattr(r.events.tracks, key), \"\\n\")"
   ]
  },
  {
   "cell_type": "code",
   "execution_count": 87,
   "metadata": {},
   "outputs": [
    {
     "data": {
      "text/plain": [
       "<ChunkedArray [[294.6407542676734 294.6407542676734 294.6407542676734 ... 67.81221253265059 67.7756405143316 67.77250505700384] [96.75133289411137 96.75133289411137 96.75133289411137 ... 39.21916536442286 39.184645826013806 38.870325146341884] [560.2775306614813 560.2775306614813 560.2775306614813 ... 118.88577278801066 118.72271313687405 117.80785995187605] ... [71.03251451148226 71.03251451148226 71.03251451148226 ... 16.714140573909347 16.444395245214945 16.34639241716669] [326.440133294878 326.440133294878 326.440133294878 ... 87.79818671079849 87.75488082571873 87.74839444768625] [159.77779654216795 159.77779654216795 159.77779654216795 ... 33.8669134999348 33.821631538334984 33.77240735670646]] at 0x7f74897e3d50>"
      ]
     },
     "execution_count": 87,
     "metadata": {},
     "output_type": "execute_result"
    }
   ],
   "source": [
    "r.events.tracks.lik"
   ]
  },
  {
   "cell_type": "markdown",
   "metadata": {},
   "source": [
    "## test tracks slicing"
   ]
  },
  {
   "cell_type": "code",
   "execution_count": 147,
   "metadata": {},
   "outputs": [
    {
     "data": {
      "text/plain": [
       "<ChunkedArray [590.4753779242533 546.3344243172004 585.1168235271093] at 0x7f748984c950>"
      ]
     },
     "execution_count": 147,
     "metadata": {},
     "output_type": "execute_result"
    }
   ],
   "source": [
    "# this selects the first pos_y in all tracks in [3:6]\n",
    "r.events.tracks.pos_y[3:6, 0]"
   ]
  },
  {
   "cell_type": "code",
   "execution_count": 148,
   "metadata": {},
   "outputs": [
    {
     "data": {
      "text/plain": [
       "<ChunkedArray [590.4753779242533 546.3344243172004 585.1168235271093] at 0x7f7489db0210>"
      ]
     },
     "execution_count": 148,
     "metadata": {},
     "output_type": "execute_result"
    }
   ],
   "source": [
    "r.events[3:6].tracks.pos_y[:, 0]"
   ]
  },
  {
   "cell_type": "code",
   "execution_count": 149,
   "metadata": {},
   "outputs": [
    {
     "data": {
      "text/plain": [
       "590.4753779242533"
      ]
     },
     "execution_count": 149,
     "metadata": {},
     "output_type": "execute_result"
    }
   ],
   "source": [
    "r.events.tracks.pos_y[3][0]"
   ]
  },
  {
   "cell_type": "code",
   "execution_count": 150,
   "metadata": {},
   "outputs": [
    {
     "data": {
      "text/plain": [
       "array([294.64075427, 294.64075427, 294.64075427])"
      ]
     },
     "execution_count": 150,
     "metadata": {},
     "output_type": "execute_result"
    }
   ],
   "source": [
    "r.events.tracks[0].lik[0:3]"
   ]
  },
  {
   "cell_type": "code",
   "execution_count": 151,
   "metadata": {},
   "outputs": [
    {
     "data": {
      "text/plain": [
       "array([294.64075427, 294.64075427, 294.64075427])"
      ]
     },
     "execution_count": 151,
     "metadata": {},
     "output_type": "execute_result"
    }
   ],
   "source": [
    "r.events[0].tracks.lik[0:3]"
   ]
  },
  {
   "cell_type": "markdown",
   "metadata": {},
   "source": [
    "## BUGS IN TRACKS SLICING"
   ]
  },
  {
   "cell_type": "code",
   "execution_count": 167,
   "metadata": {},
   "outputs": [],
   "source": [
    "s = slice(0, 10, 3)\n",
    "sliced_tracks = r.events.tracks[s]"
   ]
  },
  {
   "cell_type": "code",
   "execution_count": 161,
   "metadata": {},
   "outputs": [
    {
     "data": {
      "text/plain": [
       "array([294.64075427, 294.64075427, 294.64075427])"
      ]
     },
     "execution_count": 161,
     "metadata": {},
     "output_type": "execute_result"
    }
   ],
   "source": [
    "sliced_tracks[0].lik[0:3]"
   ]
  },
  {
   "cell_type": "code",
   "execution_count": 162,
   "metadata": {},
   "outputs": [
    {
     "data": {
      "text/plain": [
       "array([294.64075427, 294.64075427, 294.64075427])"
      ]
     },
     "execution_count": 162,
     "metadata": {},
     "output_type": "execute_result"
    }
   ],
   "source": [
    "r.events.tracks[0].lik[0:3]"
   ]
  },
  {
   "cell_type": "code",
   "execution_count": 163,
   "metadata": {},
   "outputs": [
    {
     "data": {
      "text/plain": [
       "array([96.75133289, 96.75133289, 96.75133289])"
      ]
     },
     "execution_count": 163,
     "metadata": {},
     "output_type": "execute_result"
    }
   ],
   "source": [
    "sliced_tracks[1].lik[0:3]"
   ]
  },
  {
   "cell_type": "code",
   "execution_count": 164,
   "metadata": {},
   "outputs": [
    {
     "data": {
      "text/plain": [
       "array([278.28729517, 278.28729517, 278.28729517])"
      ]
     },
     "execution_count": 164,
     "metadata": {},
     "output_type": "execute_result"
    }
   ],
   "source": [
    "r.events.tracks[3].lik[0:3]"
   ]
  },
  {
   "cell_type": "code",
   "execution_count": 165,
   "metadata": {},
   "outputs": [
    {
     "data": {
      "text/plain": [
       "array([560.27753066, 560.27753066, 560.27753066])"
      ]
     },
     "execution_count": 165,
     "metadata": {},
     "output_type": "execute_result"
    }
   ],
   "source": [
    "sliced_tracks[2].lik[0:3]"
   ]
  },
  {
   "cell_type": "code",
   "execution_count": 166,
   "metadata": {},
   "outputs": [
    {
     "data": {
      "text/plain": [
       "array([47.34583307, 47.34583307, 47.34583307])"
      ]
     },
     "execution_count": 166,
     "metadata": {},
     "output_type": "execute_result"
    }
   ],
   "source": [
    "r.events.tracks[6].lik[0:3]"
   ]
  },
  {
   "cell_type": "markdown",
   "metadata": {},
   "source": []
  },
  {
   "cell_type": "code",
   "execution_count": null,
   "metadata": {},
   "outputs": [],
   "source": []
  },
  {
   "cell_type": "code",
   "execution_count": null,
   "metadata": {},
   "outputs": [],
   "source": []
  },
  {
   "cell_type": "code",
   "execution_count": null,
   "metadata": {},
   "outputs": [],
   "source": []
  },
  {
   "cell_type": "code",
   "execution_count": null,
   "metadata": {},
   "outputs": [],
   "source": []
  },
  {
   "cell_type": "code",
   "execution_count": null,
   "metadata": {},
   "outputs": [],
   "source": []
  },
  {
   "cell_type": "code",
   "execution_count": null,
   "metadata": {},
   "outputs": [],
   "source": []
  },
  {
   "cell_type": "markdown",
   "metadata": {},
   "source": [
    "## design unit tests for tracks"
   ]
  },
  {
   "cell_type": "code",
   "execution_count": 102,
   "metadata": {},
   "outputs": [
    {
     "data": {
      "text/plain": [
       "'pos_x'"
      ]
     },
     "execution_count": 102,
     "metadata": {},
     "output_type": "execute_result"
    }
   ],
   "source": [
    "ki.offline._nested_mapper(\"tkrs.pos.x\")"
   ]
  },
  {
   "cell_type": "code",
   "execution_count": 103,
   "metadata": {},
   "outputs": [],
   "source": [
    "class cached_property:\n",
    "    \"\"\"A simple cache decorator for properties.\"\"\"\n",
    "    def __init__(self, function):\n",
    "        self.function = function\n",
    "\n",
    "    def __get__(self, obj, cls):\n",
    "        print(obj, cls)\n",
    "        if obj is None:\n",
    "            print(\"in None case\")\n",
    "            return self\n",
    "        prop = obj.__dict__[self.function.__name__] = self.function(obj)\n",
    "        return prop"
   ]
  },
  {
   "cell_type": "code",
   "execution_count": 104,
   "metadata": {},
   "outputs": [],
   "source": [
    "class test:    \n",
    "    @cached_property\n",
    "    def lolo(self):\n",
    "        print(\"calling lolo\")\n",
    "        return \"with zizi\""
   ]
  },
  {
   "cell_type": "code",
   "execution_count": 108,
   "metadata": {},
   "outputs": [],
   "source": [
    "t = test()"
   ]
  },
  {
   "cell_type": "code",
   "execution_count": 109,
   "metadata": {},
   "outputs": [
    {
     "name": "stdout",
     "output_type": "stream",
     "text": [
      "None <class '__main__.test'>\n",
      "in None case\n"
     ]
    },
    {
     "data": {
      "text/plain": [
       "<__main__.cached_property at 0x7f74897cc290>"
      ]
     },
     "execution_count": 109,
     "metadata": {},
     "output_type": "execute_result"
    }
   ],
   "source": [
    "test.lolo"
   ]
  },
  {
   "cell_type": "code",
   "execution_count": 110,
   "metadata": {},
   "outputs": [
    {
     "name": "stdout",
     "output_type": "stream",
     "text": [
      "None <class '__main__.test'>\n",
      "in None case\n"
     ]
    },
    {
     "data": {
      "text/plain": [
       "True"
      ]
     },
     "execution_count": 110,
     "metadata": {},
     "output_type": "execute_result"
    }
   ],
   "source": [
    "isinstance(test.lolo, cached_property)"
   ]
  },
  {
   "cell_type": "code",
   "execution_count": 111,
   "metadata": {},
   "outputs": [
    {
     "data": {
      "text/plain": [
       "{}"
      ]
     },
     "execution_count": 111,
     "metadata": {},
     "output_type": "execute_result"
    }
   ],
   "source": [
    "t.__dict__"
   ]
  },
  {
   "cell_type": "code",
   "execution_count": 113,
   "metadata": {},
   "outputs": [
    {
     "data": {
      "text/plain": [
       "'test'"
      ]
     },
     "execution_count": 113,
     "metadata": {},
     "output_type": "execute_result"
    }
   ],
   "source": [
    "ki.offline._to_num('test')"
   ]
  },
  {
   "cell_type": "code",
   "execution_count": 114,
   "metadata": {},
   "outputs": [],
   "source": [
    "def _to_num(value):\n",
    "    try:\n",
    "        return int(value)\n",
    "    except (ValueError, TypeError):\n",
    "        pass\n",
    "    try:\n",
    "        return float(value)\n",
    "    except (ValueError, TypeError):\n",
    "        pass\n",
    "    return value"
   ]
  },
  {
   "cell_type": "code",
   "execution_count": 115,
   "metadata": {},
   "outputs": [
    {
     "data": {
      "text/plain": [
       "NoneType"
      ]
     },
     "execution_count": 115,
     "metadata": {},
     "output_type": "execute_result"
    }
   ],
   "source": [
    "type(_to_num(None))"
   ]
  },
  {
   "cell_type": "code",
   "execution_count": 116,
   "metadata": {},
   "outputs": [
    {
     "data": {
      "text/plain": [
       "10"
      ]
     },
     "execution_count": 116,
     "metadata": {},
     "output_type": "execute_result"
    }
   ],
   "source": [
    "_to_num(\"10\")"
   ]
  },
  {
   "cell_type": "code",
   "execution_count": 117,
   "metadata": {},
   "outputs": [
    {
     "data": {
      "text/plain": [
       "10.5"
      ]
     },
     "execution_count": 117,
     "metadata": {},
     "output_type": "execute_result"
    }
   ],
   "source": [
    "_to_num(\"10.5\")"
   ]
  },
  {
   "cell_type": "code",
   "execution_count": 118,
   "metadata": {},
   "outputs": [
    {
     "data": {
      "text/plain": [
       "'test'"
      ]
     },
     "execution_count": 118,
     "metadata": {},
     "output_type": "execute_result"
    }
   ],
   "source": [
    "_to_num(\"test\")"
   ]
  },
  {
   "cell_type": "code",
   "execution_count": 119,
   "metadata": {},
   "outputs": [
    {
     "name": "stdout",
     "output_type": "stream",
     "text": [
      "MC Header:\n",
      "  DAQ(livetime=394)\n",
      "  PDF(i1=4, i2=58)\n",
      "  can(zmin=0, zmax=1027, r=888.4)\n",
      "  can_user: can_user(field_0=0.0, field_1=1027.0, field_2=888.4)\n",
      "  coord_origin(x=0, y=0, z=0)\n",
      "  cut_in(Emin=0, Emax=0, cosTmin=0, cosTmax=0)\n",
      "  cut_nu(Emin=100, Emax=100000000.0, cosTmin=-1, cosTmax=1)\n",
      "  cut_primary(Emin=0, Emax=0, cosTmin=0, cosTmax=0)\n",
      "  cut_seamuon(Emin=0, Emax=0, cosTmin=0, cosTmax=0)\n",
      "  decay: decay(field_0='doesnt', field_1='happen')\n",
      "  detector: NOT\n",
      "  drawing: Volume\n",
      "  genhencut(gDir=2000, Emin=0)\n",
      "  genvol(zmin=0, zmax=1027, r=888.4, volume=2649000000.0, numberOfEvents=100000)\n",
      "  kcut: 2\n",
      "  livetime(numberOfSeconds=0, errorOfSeconds=0)\n",
      "  model(interaction=1, muon=2, scattering=0, numberOfEnergyBins=1, field_4=12)\n",
      "  ngen: 100000.0\n",
      "  norma(primaryFlux=0, numberOfPrimaries=0)\n",
      "  nuflux: nuflux(field_0=0, field_1=3, field_2=0, field_3=0.5, field_4=0.0, field_5=1.0, field_6=3.0)\n",
      "  physics(program='GENHEN', version='7.2-220514', date=181116, time=1138)\n",
      "  seed(program='GENHEN', level=3, iseed=305765867, field_3=0, field_4=0)\n",
      "  simul(program='JSirene', version=11012, date='11/17/18', time=7)\n",
      "  sourcemode: diffuse\n",
      "  spectrum(alpha=-1.4)\n",
      "  start_run(run_id=1)\n",
      "  target: isoscalar\n",
      "  usedetfile: false\n",
      "  xlat_user: 0.63297\n",
      "  xparam: OFF\n",
      "  zed_user: zed_user(field_0=0.0, field_1=3450.0)\n"
     ]
    }
   ],
   "source": [
    "print(r3.header)"
   ]
  },
  {
   "cell_type": "code",
   "execution_count": 121,
   "metadata": {},
   "outputs": [],
   "source": [
    "from km3io.offline import Header"
   ]
  },
  {
   "cell_type": "code",
   "execution_count": 132,
   "metadata": {},
   "outputs": [],
   "source": [
    "from km3io.definitions import mc_header"
   ]
  },
  {
   "cell_type": "code",
   "execution_count": 133,
   "metadata": {},
   "outputs": [
    {
     "data": {
      "text/plain": [
       "{'DAQ': ['livetime'],\n",
       " 'seed': ['program', 'level', 'iseed', 'field_3', 'field_4'],\n",
       " 'PM1_type_area': ['type', 'area', 'TTS'],\n",
       " 'PDF': ['i1', 'i2'],\n",
       " 'model': ['interaction',\n",
       "  'muon',\n",
       "  'scattering',\n",
       "  'numberOfEnergyBins',\n",
       "  'field_4'],\n",
       " 'can': ['zmin', 'zmax', 'r'],\n",
       " 'genvol': ['zmin', 'zmax', 'r', 'volume', 'numberOfEvents'],\n",
       " 'merge': ['time', 'gain'],\n",
       " 'coord_origin': ['x', 'y', 'z'],\n",
       " 'translate': ['x', 'y', 'z'],\n",
       " 'genhencut': ['gDir', 'Emin'],\n",
       " 'k40': ['rate', 'time'],\n",
       " 'norma': ['primaryFlux', 'numberOfPrimaries'],\n",
       " 'livetime': ['numberOfSeconds', 'errorOfSeconds'],\n",
       " 'flux': ['type', 'key', 'file_1', 'file_2'],\n",
       " 'spectrum': ['alpha'],\n",
       " 'fixedcan': ['xcenter', 'ycenter', 'zmin', 'zmax', 'radius'],\n",
       " 'start_run': ['run_id'],\n",
       " 'cut_primary': ['Emin', 'Emax', 'cosTmin', 'cosTmax'],\n",
       " 'cut_seamuon': ['Emin', 'Emax', 'cosTmin', 'cosTmax'],\n",
       " 'cut_in': ['Emin', 'Emax', 'cosTmin', 'cosTmax'],\n",
       " 'cut_nu': ['Emin', 'Emax', 'cosTmin', 'cosTmax'],\n",
       " 'generator': ['program', 'version', 'date', 'time'],\n",
       " 'physics': ['program', 'version', 'date', 'time'],\n",
       " 'simul': ['program', 'version', 'date', 'time']}"
      ]
     },
     "execution_count": 133,
     "metadata": {},
     "output_type": "execute_result"
    }
   ],
   "source": [
    "mc_header"
   ]
  },
  {
   "cell_type": "code",
   "execution_count": 124,
   "metadata": {},
   "outputs": [
    {
     "data": {
      "text/plain": [
       "{'DAQ': DAQ(livetime=394),\n",
       " 'PDF': PDF(i1=4, i2=58),\n",
       " 'can': can(zmin=0, zmax=1027, r=888.4),\n",
       " 'can_user': can_user(field_0=0.0, field_1=1027.0, field_2=888.4),\n",
       " 'coord_origin': coord_origin(x=0, y=0, z=0),\n",
       " 'cut_in': cut_in(Emin=0, Emax=0, cosTmin=0, cosTmax=0),\n",
       " 'cut_nu': cut_nu(Emin=100, Emax=100000000.0, cosTmin=-1, cosTmax=1),\n",
       " 'cut_primary': cut_primary(Emin=0, Emax=0, cosTmin=0, cosTmax=0),\n",
       " 'cut_seamuon': cut_seamuon(Emin=0, Emax=0, cosTmin=0, cosTmax=0),\n",
       " 'decay': decay(field_0='doesnt', field_1='happen'),\n",
       " 'detector': 'NOT',\n",
       " 'drawing': 'Volume',\n",
       " 'genhencut': genhencut(gDir=2000, Emin=0),\n",
       " 'genvol': genvol(zmin=0, zmax=1027, r=888.4, volume=2649000000.0, numberOfEvents=100000),\n",
       " 'kcut': 2,\n",
       " 'livetime': livetime(numberOfSeconds=0, errorOfSeconds=0),\n",
       " 'model': model(interaction=1, muon=2, scattering=0, numberOfEnergyBins=1, field_4=12),\n",
       " 'ngen': 100000.0,\n",
       " 'norma': norma(primaryFlux=0, numberOfPrimaries=0),\n",
       " 'nuflux': nuflux(field_0=0, field_1=3, field_2=0, field_3=0.5, field_4=0.0, field_5=1.0, field_6=3.0),\n",
       " 'physics': physics(program='GENHEN', version='7.2-220514', date=181116, time=1138),\n",
       " 'seed': seed(program='GENHEN', level=3, iseed=305765867, field_3=0, field_4=0),\n",
       " 'simul': simul(program='JSirene', version=11012, date='11/17/18', time=7),\n",
       " 'sourcemode': 'diffuse',\n",
       " 'spectrum': spectrum(alpha=-1.4),\n",
       " 'start_run': start_run(run_id=1),\n",
       " 'target': 'isoscalar',\n",
       " 'usedetfile': 'false',\n",
       " 'xlat_user': 0.63297,\n",
       " 'xparam': 'OFF',\n",
       " 'zed_user': zed_user(field_0=0.0, field_1=3450.0)}"
      ]
     },
     "execution_count": 124,
     "metadata": {},
     "output_type": "execute_result"
    }
   ],
   "source": [
    "r3.header._data"
   ]
  },
  {
   "cell_type": "code",
   "execution_count": 125,
   "metadata": {},
   "outputs": [],
   "source": [
    "head2 = {'DAQ': '394',\n",
    "         'PDF': '4      58',\n",
    "         'XSecFile': '',\n",
    "         'can': '0 1027 888.4'}\n",
    "\n",
    "fields = {'DAQ': ['livetime'],\n",
    "          'seed': ['program', 'level', 'iseed'],\n",
    "          'PM1_type_area': ['type', 'area', 'TTS'],\n",
    "          'PDF': ['i1', 'i2']}\n",
    "\n",
    "h2 = ki.offline.Header(head2)"
   ]
  },
  {
   "cell_type": "code",
   "execution_count": 126,
   "metadata": {},
   "outputs": [
    {
     "data": {
      "text/plain": [
       "{'DAQ': DAQ(livetime=394),\n",
       " 'PDF': PDF(i1=4, i2=58),\n",
       " 'can': can(zmin=0, zmax=1027, r=888.4)}"
      ]
     },
     "execution_count": 126,
     "metadata": {},
     "output_type": "execute_result"
    }
   ],
   "source": [
    "h2._data"
   ]
  },
  {
   "cell_type": "code",
   "execution_count": 127,
   "metadata": {},
   "outputs": [
    {
     "data": {
      "text/plain": [
       "PDF(i1=4, i2=58)"
      ]
     },
     "execution_count": 127,
     "metadata": {},
     "output_type": "execute_result"
    }
   ],
   "source": [
    "h2.PDF"
   ]
  },
  {
   "cell_type": "code",
   "execution_count": 128,
   "metadata": {},
   "outputs": [],
   "source": [
    "long_h = {'DAQ': '394',\n",
    " 'PDF': '4      58',\n",
    " 'XSecFile': '',\n",
    " 'can': '0 1027 888.4',\n",
    " 'can_user': '0.00 1027.00  888.40',\n",
    " 'coord_origin': '0 0 0',\n",
    " 'cut_in': '0 0 0 0',\n",
    " 'cut_nu': '100 1e+08 -1 1',\n",
    " 'cut_primary': '0 0 0 0',\n",
    " 'cut_seamuon': '0 0 0 0',\n",
    " 'decay': 'doesnt happen',\n",
    " 'detector': 'NOT',\n",
    " 'drawing': 'Volume',\n",
    " 'end_event': '',\n",
    " 'genhencut': '2000 0',\n",
    " 'genvol': '0 1027 888.4 2.649e+09 100000',\n",
    " 'kcut': '2',\n",
    " 'livetime': '0 0',\n",
    " 'model': '1       2       0       1      12',\n",
    " 'muon_desc_file': '',\n",
    " 'ngen': '0.1000E+06',\n",
    " 'norma': '0 0',\n",
    " 'nuflux': '0       3       0 0.500E+00 0.000E+00 0.100E+01 0.300E+01',\n",
    " 'physics': 'GENHEN 7.2-220514 181116 1138',\n",
    " 'seed': 'GENHEN 3  305765867         0         0',\n",
    " 'simul': 'JSirene 11012 11/17/18 07',\n",
    " 'sourcemode': 'diffuse',\n",
    " 'spectrum': '-1.4',\n",
    " 'start_run': '1',\n",
    " 'target': 'isoscalar',\n",
    " 'usedetfile': 'false',\n",
    " 'xlat_user': '0.63297',\n",
    " 'xparam': 'OFF',\n",
    " 'zed_user': '0.00 3450.00'}"
   ]
  },
  {
   "cell_type": "code",
   "execution_count": 129,
   "metadata": {},
   "outputs": [
    {
     "data": {
      "text/plain": [
       "31"
      ]
     },
     "execution_count": 129,
     "metadata": {},
     "output_type": "execute_result"
    }
   ],
   "source": [
    "long_head = ki.offline.Header(long_h)\n",
    "len(long_head._data)"
   ]
  },
  {
   "cell_type": "code",
   "execution_count": 130,
   "metadata": {},
   "outputs": [
    {
     "name": "stdout",
     "output_type": "stream",
     "text": [
      "MC Header:\n",
      "  DAQ(livetime=394)\n",
      "  PDF(i1=4, i2=58)\n",
      "  can(zmin=0, zmax=1027, r=888.4)\n",
      "  can_user: can_user(field_0=0.0, field_1=1027.0, field_2=888.4)\n",
      "  coord_origin(x=0, y=0, z=0)\n",
      "  cut_in(Emin=0, Emax=0, cosTmin=0, cosTmax=0)\n",
      "  cut_nu(Emin=100, Emax=100000000.0, cosTmin=-1, cosTmax=1)\n",
      "  cut_primary(Emin=0, Emax=0, cosTmin=0, cosTmax=0)\n",
      "  cut_seamuon(Emin=0, Emax=0, cosTmin=0, cosTmax=0)\n",
      "  decay: decay(field_0='doesnt', field_1='happen')\n",
      "  detector: NOT\n",
      "  drawing: Volume\n",
      "  genhencut(gDir=2000, Emin=0)\n",
      "  genvol(zmin=0, zmax=1027, r=888.4, volume=2649000000.0, numberOfEvents=100000)\n",
      "  kcut: 2\n",
      "  livetime(numberOfSeconds=0, errorOfSeconds=0)\n",
      "  model(interaction=1, muon=2, scattering=0, numberOfEnergyBins=1, field_4=12)\n",
      "  ngen: 100000.0\n",
      "  norma(primaryFlux=0, numberOfPrimaries=0)\n",
      "  nuflux: nuflux(field_0=0, field_1=3, field_2=0, field_3=0.5, field_4=0.0, field_5=1.0, field_6=3.0)\n",
      "  physics(program='GENHEN', version='7.2-220514', date=181116, time=1138)\n",
      "  seed(program='GENHEN', level=3, iseed=305765867, field_3=0, field_4=0)\n",
      "  simul(program='JSirene', version=11012, date='11/17/18', time=7)\n",
      "  sourcemode: diffuse\n",
      "  spectrum(alpha=-1.4)\n",
      "  start_run(run_id=1)\n",
      "  target: isoscalar\n",
      "  usedetfile: false\n",
      "  xlat_user: 0.63297\n",
      "  xparam: OFF\n",
      "  zed_user: zed_user(field_0=0.0, field_1=3450.0)\n"
     ]
    }
   ],
   "source": [
    "print(long_head)"
   ]
  },
  {
   "cell_type": "code",
   "execution_count": 134,
   "metadata": {},
   "outputs": [
    {
     "data": {
      "text/plain": [
       "{'DAQ',\n",
       " 'PDF',\n",
       " 'PM1_type_area',\n",
       " 'can',\n",
       " 'coord_origin',\n",
       " 'cut_in',\n",
       " 'cut_nu',\n",
       " 'cut_primary',\n",
       " 'cut_seamuon',\n",
       " 'fixedcan',\n",
       " 'flux',\n",
       " 'generator',\n",
       " 'genhencut',\n",
       " 'genvol',\n",
       " 'k40',\n",
       " 'livetime',\n",
       " 'merge',\n",
       " 'model',\n",
       " 'norma',\n",
       " 'physics',\n",
       " 'seed',\n",
       " 'simul',\n",
       " 'spectrum',\n",
       " 'start_run',\n",
       " 'translate'}"
      ]
     },
     "execution_count": 134,
     "metadata": {},
     "output_type": "execute_result"
    }
   ],
   "source": [
    "set(mc_header.keys())"
   ]
  },
  {
   "cell_type": "code",
   "execution_count": null,
   "metadata": {},
   "outputs": [],
   "source": []
  },
  {
   "cell_type": "code",
   "execution_count": null,
   "metadata": {},
   "outputs": [],
   "source": []
  }
 ],
 "metadata": {
  "kernelspec": {
   "display_name": "Python 3",
   "language": "python",
   "name": "python3"
  },
  "language_info": {
   "codemirror_mode": {
    "name": "ipython",
    "version": 3
   },
   "file_extension": ".py",
   "mimetype": "text/x-python",
   "name": "python",
   "nbconvert_exporter": "python",
   "pygments_lexer": "ipython3",
   "version": "3.7.4"
  }
 },
 "nbformat": 4,
 "nbformat_minor": 4
}
